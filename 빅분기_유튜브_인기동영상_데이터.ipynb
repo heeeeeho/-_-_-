{
  "nbformat": 4,
  "nbformat_minor": 0,
  "metadata": {
    "colab": {
      "provenance": [],
      "collapsed_sections": []
    },
    "kernelspec": {
      "name": "python3",
      "display_name": "Python 3"
    },
    "language_info": {
      "name": "python"
    }
  },
  "cells": [
    {
      "cell_type": "code",
      "source": [
        "# 유튜브 인기동영상 데이터"
      ],
      "metadata": {
        "id": "PLLVkr3elkiQ"
      },
      "execution_count": 2,
      "outputs": []
    },
    {
      "cell_type": "code",
      "execution_count": 142,
      "metadata": {
        "colab": {
          "base_uri": "https://localhost:8080/",
          "height": 250
        },
        "id": "ExSnRyfblgjV",
        "outputId": "6862e56e-a41c-41a3-dcd5-a25822ed1e59"
      },
      "outputs": [
        {
          "output_type": "execute_result",
          "data": {
            "text/plain": [
              "                                               title             channelTitle  \\\n",
              "0                                          [신병] 물자창고                      장삐쭈   \n",
              "1   RAIN(비) - 나로 바꾸자 Switch to me (duet with JYP) MV  RAIN's Official Channel   \n",
              "2       2020년 제야의 종 온라인 타종행사 | 보신각 현장 행사는 진행하지 않습니다.              서울시 · Seoul   \n",
              "3                                       고기남자의 칠면조 파티             고기남자 MeatMan   \n",
              "4  골목 3mc를 분노하게 만든 마음고생이 심했을 공릉 백반집 사장님의 푸념?! [예능...                    스브스밥집   \n",
              "\n",
              "   categoryId  view_count  likes  dislikes  comment_count  \\\n",
              "0          23     1893473  38249       730           8595   \n",
              "1          10     2600864      0         0          20129   \n",
              "2          29      347049   3564       120            178   \n",
              "3          26      528458  15372       280           3470   \n",
              "4          24      494904   3918       111           3142   \n",
              "\n",
              "                  channelId trending_date2  \n",
              "0  UChbE5OZQ6dRHECsX0tEPEZQ     2021-01-01  \n",
              "1  UCxXgIeE5hxWxHG6dz9Scg2w     2021-01-01  \n",
              "2  UCZUPZW5idAxYp-Asj__lVAA     2021-01-01  \n",
              "3  UCT3CumbFIJiW33uq0UI3zlg     2021-01-01  \n",
              "4  UCdWgRSfttvDucq4ApcCg5Mw     2021-01-01  "
            ],
            "text/html": [
              "\n",
              "  <div id=\"df-52034a79-7240-404e-a5ff-be37c04dbc5c\">\n",
              "    <div class=\"colab-df-container\">\n",
              "      <div>\n",
              "<style scoped>\n",
              "    .dataframe tbody tr th:only-of-type {\n",
              "        vertical-align: middle;\n",
              "    }\n",
              "\n",
              "    .dataframe tbody tr th {\n",
              "        vertical-align: top;\n",
              "    }\n",
              "\n",
              "    .dataframe thead th {\n",
              "        text-align: right;\n",
              "    }\n",
              "</style>\n",
              "<table border=\"1\" class=\"dataframe\">\n",
              "  <thead>\n",
              "    <tr style=\"text-align: right;\">\n",
              "      <th></th>\n",
              "      <th>title</th>\n",
              "      <th>channelTitle</th>\n",
              "      <th>categoryId</th>\n",
              "      <th>view_count</th>\n",
              "      <th>likes</th>\n",
              "      <th>dislikes</th>\n",
              "      <th>comment_count</th>\n",
              "      <th>channelId</th>\n",
              "      <th>trending_date2</th>\n",
              "    </tr>\n",
              "  </thead>\n",
              "  <tbody>\n",
              "    <tr>\n",
              "      <th>0</th>\n",
              "      <td>[신병] 물자창고</td>\n",
              "      <td>장삐쭈</td>\n",
              "      <td>23</td>\n",
              "      <td>1893473</td>\n",
              "      <td>38249</td>\n",
              "      <td>730</td>\n",
              "      <td>8595</td>\n",
              "      <td>UChbE5OZQ6dRHECsX0tEPEZQ</td>\n",
              "      <td>2021-01-01</td>\n",
              "    </tr>\n",
              "    <tr>\n",
              "      <th>1</th>\n",
              "      <td>RAIN(비) - 나로 바꾸자 Switch to me (duet with JYP) MV</td>\n",
              "      <td>RAIN's Official Channel</td>\n",
              "      <td>10</td>\n",
              "      <td>2600864</td>\n",
              "      <td>0</td>\n",
              "      <td>0</td>\n",
              "      <td>20129</td>\n",
              "      <td>UCxXgIeE5hxWxHG6dz9Scg2w</td>\n",
              "      <td>2021-01-01</td>\n",
              "    </tr>\n",
              "    <tr>\n",
              "      <th>2</th>\n",
              "      <td>2020년 제야의 종 온라인 타종행사 | 보신각 현장 행사는 진행하지 않습니다.</td>\n",
              "      <td>서울시 · Seoul</td>\n",
              "      <td>29</td>\n",
              "      <td>347049</td>\n",
              "      <td>3564</td>\n",
              "      <td>120</td>\n",
              "      <td>178</td>\n",
              "      <td>UCZUPZW5idAxYp-Asj__lVAA</td>\n",
              "      <td>2021-01-01</td>\n",
              "    </tr>\n",
              "    <tr>\n",
              "      <th>3</th>\n",
              "      <td>고기남자의 칠면조 파티</td>\n",
              "      <td>고기남자 MeatMan</td>\n",
              "      <td>26</td>\n",
              "      <td>528458</td>\n",
              "      <td>15372</td>\n",
              "      <td>280</td>\n",
              "      <td>3470</td>\n",
              "      <td>UCT3CumbFIJiW33uq0UI3zlg</td>\n",
              "      <td>2021-01-01</td>\n",
              "    </tr>\n",
              "    <tr>\n",
              "      <th>4</th>\n",
              "      <td>골목 3mc를 분노하게 만든 마음고생이 심했을 공릉 백반집 사장님의 푸념?! [예능...</td>\n",
              "      <td>스브스밥집</td>\n",
              "      <td>24</td>\n",
              "      <td>494904</td>\n",
              "      <td>3918</td>\n",
              "      <td>111</td>\n",
              "      <td>3142</td>\n",
              "      <td>UCdWgRSfttvDucq4ApcCg5Mw</td>\n",
              "      <td>2021-01-01</td>\n",
              "    </tr>\n",
              "  </tbody>\n",
              "</table>\n",
              "</div>\n",
              "      <button class=\"colab-df-convert\" onclick=\"convertToInteractive('df-52034a79-7240-404e-a5ff-be37c04dbc5c')\"\n",
              "              title=\"Convert this dataframe to an interactive table.\"\n",
              "              style=\"display:none;\">\n",
              "        \n",
              "  <svg xmlns=\"http://www.w3.org/2000/svg\" height=\"24px\"viewBox=\"0 0 24 24\"\n",
              "       width=\"24px\">\n",
              "    <path d=\"M0 0h24v24H0V0z\" fill=\"none\"/>\n",
              "    <path d=\"M18.56 5.44l.94 2.06.94-2.06 2.06-.94-2.06-.94-.94-2.06-.94 2.06-2.06.94zm-11 1L8.5 8.5l.94-2.06 2.06-.94-2.06-.94L8.5 2.5l-.94 2.06-2.06.94zm10 10l.94 2.06.94-2.06 2.06-.94-2.06-.94-.94-2.06-.94 2.06-2.06.94z\"/><path d=\"M17.41 7.96l-1.37-1.37c-.4-.4-.92-.59-1.43-.59-.52 0-1.04.2-1.43.59L10.3 9.45l-7.72 7.72c-.78.78-.78 2.05 0 2.83L4 21.41c.39.39.9.59 1.41.59.51 0 1.02-.2 1.41-.59l7.78-7.78 2.81-2.81c.8-.78.8-2.07 0-2.86zM5.41 20L4 18.59l7.72-7.72 1.47 1.35L5.41 20z\"/>\n",
              "  </svg>\n",
              "      </button>\n",
              "      \n",
              "  <style>\n",
              "    .colab-df-container {\n",
              "      display:flex;\n",
              "      flex-wrap:wrap;\n",
              "      gap: 12px;\n",
              "    }\n",
              "\n",
              "    .colab-df-convert {\n",
              "      background-color: #E8F0FE;\n",
              "      border: none;\n",
              "      border-radius: 50%;\n",
              "      cursor: pointer;\n",
              "      display: none;\n",
              "      fill: #1967D2;\n",
              "      height: 32px;\n",
              "      padding: 0 0 0 0;\n",
              "      width: 32px;\n",
              "    }\n",
              "\n",
              "    .colab-df-convert:hover {\n",
              "      background-color: #E2EBFA;\n",
              "      box-shadow: 0px 1px 2px rgba(60, 64, 67, 0.3), 0px 1px 3px 1px rgba(60, 64, 67, 0.15);\n",
              "      fill: #174EA6;\n",
              "    }\n",
              "\n",
              "    [theme=dark] .colab-df-convert {\n",
              "      background-color: #3B4455;\n",
              "      fill: #D2E3FC;\n",
              "    }\n",
              "\n",
              "    [theme=dark] .colab-df-convert:hover {\n",
              "      background-color: #434B5C;\n",
              "      box-shadow: 0px 1px 3px 1px rgba(0, 0, 0, 0.15);\n",
              "      filter: drop-shadow(0px 1px 2px rgba(0, 0, 0, 0.3));\n",
              "      fill: #FFFFFF;\n",
              "    }\n",
              "  </style>\n",
              "\n",
              "      <script>\n",
              "        const buttonEl =\n",
              "          document.querySelector('#df-52034a79-7240-404e-a5ff-be37c04dbc5c button.colab-df-convert');\n",
              "        buttonEl.style.display =\n",
              "          google.colab.kernel.accessAllowed ? 'block' : 'none';\n",
              "\n",
              "        async function convertToInteractive(key) {\n",
              "          const element = document.querySelector('#df-52034a79-7240-404e-a5ff-be37c04dbc5c');\n",
              "          const dataTable =\n",
              "            await google.colab.kernel.invokeFunction('convertToInteractive',\n",
              "                                                     [key], {});\n",
              "          if (!dataTable) return;\n",
              "\n",
              "          const docLinkHtml = 'Like what you see? Visit the ' +\n",
              "            '<a target=\"_blank\" href=https://colab.research.google.com/notebooks/data_table.ipynb>data table notebook</a>'\n",
              "            + ' to learn more about interactive tables.';\n",
              "          element.innerHTML = '';\n",
              "          dataTable['output_type'] = 'display_data';\n",
              "          await google.colab.output.renderOutput(dataTable, element);\n",
              "          const docLink = document.createElement('div');\n",
              "          docLink.innerHTML = docLinkHtml;\n",
              "          element.appendChild(docLink);\n",
              "        }\n",
              "      </script>\n",
              "    </div>\n",
              "  </div>\n",
              "  "
            ]
          },
          "metadata": {},
          "execution_count": 142
        }
      ],
      "source": [
        "import pandas as pd\n",
        "df = pd.read_csv(\"https://raw.githubusercontent.com/Datamanim/datarepo/main/youtube/youtube.csv\",index_col=0)\n",
        "df.head()"
      ]
    },
    {
      "cell_type": "code",
      "source": [
        "# Q. 인기동영상 제작횟수가 많은 채널 상위 10개명을 출력하라 (날짜기준, 중복포함)"
      ],
      "metadata": {
        "id": "n9FZ6bZJljB4"
      },
      "execution_count": 4,
      "outputs": []
    },
    {
      "cell_type": "code",
      "source": [
        "# 채널별 카운트가 필요하므로 groupby count 또는 value_counts 사용해야할 것 같다."
      ],
      "metadata": {
        "id": "sz6AFsxeqTiT"
      },
      "execution_count": null,
      "outputs": []
    },
    {
      "cell_type": "code",
      "source": [
        "# 1-1 groupby count 후 내림차순 정렬해서 상위 10개 channelId 추출"
      ],
      "metadata": {
        "id": "MWkLqK5Fq0BC"
      },
      "execution_count": null,
      "outputs": []
    },
    {
      "cell_type": "code",
      "source": [
        "id = df.groupby(by='channelId').count().sort_values(by='title', ascending=False).head(10).index"
      ],
      "metadata": {
        "id": "roBfEZCFqfq1"
      },
      "execution_count": 100,
      "outputs": []
    },
    {
      "cell_type": "code",
      "source": [
        "# 1-2 상위 10개 channelId를 활용해서 원래 데이터프레임에 넣어주기 (channelTitle을 알아내야 하기 떄문)"
      ],
      "metadata": {
        "id": "U2WH6b0KrapV"
      },
      "execution_count": null,
      "outputs": []
    },
    {
      "cell_type": "code",
      "source": [
        "new = df[df['channelId'].isin(id)]\n",
        "new"
      ],
      "metadata": {
        "colab": {
          "base_uri": "https://localhost:8080/",
          "height": 502
        },
        "id": "XzhiY6HfrB5M",
        "outputId": "442709f7-8eac-4144-a2bc-6752e4c4b38b"
      },
      "execution_count": 110,
      "outputs": [
        {
          "output_type": "execute_result",
          "data": {
            "text/plain": [
              "                                                   title  \\\n",
              "0                                              [신병] 물자창고   \n",
              "27                                       새 식구 [총몇명 스토리2]   \n",
              "32                   하루종일 탄산에 빠지면 어떻게 될까?! 물대신 탄산만 먹음...   \n",
              "76                                             [병영일기] 부식   \n",
              "79                                                 긴급 회의   \n",
              "...                                                  ...   \n",
              "60241                                     [짐승친구들] 느그 이름은   \n",
              "60242             24시간동안 크림 먹기 VS 팥 먹기!! 어떤 요리가 더 맛있을까?!   \n",
              "60271  [전참시] 훅 들어오는 남편의 모닝 이벤트부터 SWAG 힙한 딸까지💃 엄마 아이키의...   \n",
              "60305                                            뼈맞고순살파티   \n",
              "60327  24시간동안 10,000칼로리 먹기 vs 0칼로리 먹기!! 0칼로리만 먹어도 배부를까?!   \n",
              "\n",
              "                channelTitle  categoryId  view_count  likes  dislikes  \\\n",
              "0                        장삐쭈          23     1893473  38249       730   \n",
              "27                       총몇명           1     1274926  33739       728   \n",
              "32                       파뿌리          24      736670  11307       632   \n",
              "76                        짤툰           1     1496529  26284      1422   \n",
              "79                       총몇명           1     1273557  53472      1243   \n",
              "...                      ...         ...         ...    ...       ...   \n",
              "60241                     짤툰           1     1374286  28365       510   \n",
              "60242                    파뿌리          24      860037  13053       516   \n",
              "60271  엠뚜루마뚜루 : MBC 공식 종합 채널          24     3311230  38387       653   \n",
              "60305        런닝맨 - 스브스 공식 채널          24     1994787  20947       497   \n",
              "60327                    파뿌리          24     1571843  19280       773   \n",
              "\n",
              "       comment_count                 channelId trending_date2  \n",
              "0               8595  UChbE5OZQ6dRHECsX0tEPEZQ     2021-01-01  \n",
              "27              4373  UCRuSxVu4iqTK5kCh90ntAgA     2021-01-01  \n",
              "32              5302  UClzB2iZ5jPoTNz0S-QU6Wiw     2021-01-01  \n",
              "76              5710  UCszFjh7CEfwDb7UUGb4RzCQ     2021-01-01  \n",
              "79              7679  UCRuSxVu4iqTK5kCh90ntAgA     2021-01-01  \n",
              "...              ...                       ...            ...  \n",
              "60241           2807  UCszFjh7CEfwDb7UUGb4RzCQ     2021-10-19  \n",
              "60242           3319  UClzB2iZ5jPoTNz0S-QU6Wiw     2021-10-19  \n",
              "60271           1726  UCiwQRG2sCcfjKkgxMEdJGPg     2021-10-19  \n",
              "60305           2262  UCaKod3X1Tn4c7Ci0iUKcvzQ     2021-10-19  \n",
              "60327           4624  UClzB2iZ5jPoTNz0S-QU6Wiw     2021-10-19  \n",
              "\n",
              "[2959 rows x 9 columns]"
            ],
            "text/html": [
              "\n",
              "  <div id=\"df-ddf6a517-d345-48c4-9a7e-462f2c6ecec1\">\n",
              "    <div class=\"colab-df-container\">\n",
              "      <div>\n",
              "<style scoped>\n",
              "    .dataframe tbody tr th:only-of-type {\n",
              "        vertical-align: middle;\n",
              "    }\n",
              "\n",
              "    .dataframe tbody tr th {\n",
              "        vertical-align: top;\n",
              "    }\n",
              "\n",
              "    .dataframe thead th {\n",
              "        text-align: right;\n",
              "    }\n",
              "</style>\n",
              "<table border=\"1\" class=\"dataframe\">\n",
              "  <thead>\n",
              "    <tr style=\"text-align: right;\">\n",
              "      <th></th>\n",
              "      <th>title</th>\n",
              "      <th>channelTitle</th>\n",
              "      <th>categoryId</th>\n",
              "      <th>view_count</th>\n",
              "      <th>likes</th>\n",
              "      <th>dislikes</th>\n",
              "      <th>comment_count</th>\n",
              "      <th>channelId</th>\n",
              "      <th>trending_date2</th>\n",
              "    </tr>\n",
              "  </thead>\n",
              "  <tbody>\n",
              "    <tr>\n",
              "      <th>0</th>\n",
              "      <td>[신병] 물자창고</td>\n",
              "      <td>장삐쭈</td>\n",
              "      <td>23</td>\n",
              "      <td>1893473</td>\n",
              "      <td>38249</td>\n",
              "      <td>730</td>\n",
              "      <td>8595</td>\n",
              "      <td>UChbE5OZQ6dRHECsX0tEPEZQ</td>\n",
              "      <td>2021-01-01</td>\n",
              "    </tr>\n",
              "    <tr>\n",
              "      <th>27</th>\n",
              "      <td>새 식구 [총몇명 스토리2]</td>\n",
              "      <td>총몇명</td>\n",
              "      <td>1</td>\n",
              "      <td>1274926</td>\n",
              "      <td>33739</td>\n",
              "      <td>728</td>\n",
              "      <td>4373</td>\n",
              "      <td>UCRuSxVu4iqTK5kCh90ntAgA</td>\n",
              "      <td>2021-01-01</td>\n",
              "    </tr>\n",
              "    <tr>\n",
              "      <th>32</th>\n",
              "      <td>하루종일 탄산에 빠지면 어떻게 될까?! 물대신 탄산만 먹음...</td>\n",
              "      <td>파뿌리</td>\n",
              "      <td>24</td>\n",
              "      <td>736670</td>\n",
              "      <td>11307</td>\n",
              "      <td>632</td>\n",
              "      <td>5302</td>\n",
              "      <td>UClzB2iZ5jPoTNz0S-QU6Wiw</td>\n",
              "      <td>2021-01-01</td>\n",
              "    </tr>\n",
              "    <tr>\n",
              "      <th>76</th>\n",
              "      <td>[병영일기] 부식</td>\n",
              "      <td>짤툰</td>\n",
              "      <td>1</td>\n",
              "      <td>1496529</td>\n",
              "      <td>26284</td>\n",
              "      <td>1422</td>\n",
              "      <td>5710</td>\n",
              "      <td>UCszFjh7CEfwDb7UUGb4RzCQ</td>\n",
              "      <td>2021-01-01</td>\n",
              "    </tr>\n",
              "    <tr>\n",
              "      <th>79</th>\n",
              "      <td>긴급 회의</td>\n",
              "      <td>총몇명</td>\n",
              "      <td>1</td>\n",
              "      <td>1273557</td>\n",
              "      <td>53472</td>\n",
              "      <td>1243</td>\n",
              "      <td>7679</td>\n",
              "      <td>UCRuSxVu4iqTK5kCh90ntAgA</td>\n",
              "      <td>2021-01-01</td>\n",
              "    </tr>\n",
              "    <tr>\n",
              "      <th>...</th>\n",
              "      <td>...</td>\n",
              "      <td>...</td>\n",
              "      <td>...</td>\n",
              "      <td>...</td>\n",
              "      <td>...</td>\n",
              "      <td>...</td>\n",
              "      <td>...</td>\n",
              "      <td>...</td>\n",
              "      <td>...</td>\n",
              "    </tr>\n",
              "    <tr>\n",
              "      <th>60241</th>\n",
              "      <td>[짐승친구들] 느그 이름은</td>\n",
              "      <td>짤툰</td>\n",
              "      <td>1</td>\n",
              "      <td>1374286</td>\n",
              "      <td>28365</td>\n",
              "      <td>510</td>\n",
              "      <td>2807</td>\n",
              "      <td>UCszFjh7CEfwDb7UUGb4RzCQ</td>\n",
              "      <td>2021-10-19</td>\n",
              "    </tr>\n",
              "    <tr>\n",
              "      <th>60242</th>\n",
              "      <td>24시간동안 크림 먹기 VS 팥 먹기!! 어떤 요리가 더 맛있을까?!</td>\n",
              "      <td>파뿌리</td>\n",
              "      <td>24</td>\n",
              "      <td>860037</td>\n",
              "      <td>13053</td>\n",
              "      <td>516</td>\n",
              "      <td>3319</td>\n",
              "      <td>UClzB2iZ5jPoTNz0S-QU6Wiw</td>\n",
              "      <td>2021-10-19</td>\n",
              "    </tr>\n",
              "    <tr>\n",
              "      <th>60271</th>\n",
              "      <td>[전참시] 훅 들어오는 남편의 모닝 이벤트부터 SWAG 힙한 딸까지💃 엄마 아이키의...</td>\n",
              "      <td>엠뚜루마뚜루 : MBC 공식 종합 채널</td>\n",
              "      <td>24</td>\n",
              "      <td>3311230</td>\n",
              "      <td>38387</td>\n",
              "      <td>653</td>\n",
              "      <td>1726</td>\n",
              "      <td>UCiwQRG2sCcfjKkgxMEdJGPg</td>\n",
              "      <td>2021-10-19</td>\n",
              "    </tr>\n",
              "    <tr>\n",
              "      <th>60305</th>\n",
              "      <td>뼈맞고순살파티</td>\n",
              "      <td>런닝맨 - 스브스 공식 채널</td>\n",
              "      <td>24</td>\n",
              "      <td>1994787</td>\n",
              "      <td>20947</td>\n",
              "      <td>497</td>\n",
              "      <td>2262</td>\n",
              "      <td>UCaKod3X1Tn4c7Ci0iUKcvzQ</td>\n",
              "      <td>2021-10-19</td>\n",
              "    </tr>\n",
              "    <tr>\n",
              "      <th>60327</th>\n",
              "      <td>24시간동안 10,000칼로리 먹기 vs 0칼로리 먹기!! 0칼로리만 먹어도 배부를까?!</td>\n",
              "      <td>파뿌리</td>\n",
              "      <td>24</td>\n",
              "      <td>1571843</td>\n",
              "      <td>19280</td>\n",
              "      <td>773</td>\n",
              "      <td>4624</td>\n",
              "      <td>UClzB2iZ5jPoTNz0S-QU6Wiw</td>\n",
              "      <td>2021-10-19</td>\n",
              "    </tr>\n",
              "  </tbody>\n",
              "</table>\n",
              "<p>2959 rows × 9 columns</p>\n",
              "</div>\n",
              "      <button class=\"colab-df-convert\" onclick=\"convertToInteractive('df-ddf6a517-d345-48c4-9a7e-462f2c6ecec1')\"\n",
              "              title=\"Convert this dataframe to an interactive table.\"\n",
              "              style=\"display:none;\">\n",
              "        \n",
              "  <svg xmlns=\"http://www.w3.org/2000/svg\" height=\"24px\"viewBox=\"0 0 24 24\"\n",
              "       width=\"24px\">\n",
              "    <path d=\"M0 0h24v24H0V0z\" fill=\"none\"/>\n",
              "    <path d=\"M18.56 5.44l.94 2.06.94-2.06 2.06-.94-2.06-.94-.94-2.06-.94 2.06-2.06.94zm-11 1L8.5 8.5l.94-2.06 2.06-.94-2.06-.94L8.5 2.5l-.94 2.06-2.06.94zm10 10l.94 2.06.94-2.06 2.06-.94-2.06-.94-.94-2.06-.94 2.06-2.06.94z\"/><path d=\"M17.41 7.96l-1.37-1.37c-.4-.4-.92-.59-1.43-.59-.52 0-1.04.2-1.43.59L10.3 9.45l-7.72 7.72c-.78.78-.78 2.05 0 2.83L4 21.41c.39.39.9.59 1.41.59.51 0 1.02-.2 1.41-.59l7.78-7.78 2.81-2.81c.8-.78.8-2.07 0-2.86zM5.41 20L4 18.59l7.72-7.72 1.47 1.35L5.41 20z\"/>\n",
              "  </svg>\n",
              "      </button>\n",
              "      \n",
              "  <style>\n",
              "    .colab-df-container {\n",
              "      display:flex;\n",
              "      flex-wrap:wrap;\n",
              "      gap: 12px;\n",
              "    }\n",
              "\n",
              "    .colab-df-convert {\n",
              "      background-color: #E8F0FE;\n",
              "      border: none;\n",
              "      border-radius: 50%;\n",
              "      cursor: pointer;\n",
              "      display: none;\n",
              "      fill: #1967D2;\n",
              "      height: 32px;\n",
              "      padding: 0 0 0 0;\n",
              "      width: 32px;\n",
              "    }\n",
              "\n",
              "    .colab-df-convert:hover {\n",
              "      background-color: #E2EBFA;\n",
              "      box-shadow: 0px 1px 2px rgba(60, 64, 67, 0.3), 0px 1px 3px 1px rgba(60, 64, 67, 0.15);\n",
              "      fill: #174EA6;\n",
              "    }\n",
              "\n",
              "    [theme=dark] .colab-df-convert {\n",
              "      background-color: #3B4455;\n",
              "      fill: #D2E3FC;\n",
              "    }\n",
              "\n",
              "    [theme=dark] .colab-df-convert:hover {\n",
              "      background-color: #434B5C;\n",
              "      box-shadow: 0px 1px 3px 1px rgba(0, 0, 0, 0.15);\n",
              "      filter: drop-shadow(0px 1px 2px rgba(0, 0, 0, 0.3));\n",
              "      fill: #FFFFFF;\n",
              "    }\n",
              "  </style>\n",
              "\n",
              "      <script>\n",
              "        const buttonEl =\n",
              "          document.querySelector('#df-ddf6a517-d345-48c4-9a7e-462f2c6ecec1 button.colab-df-convert');\n",
              "        buttonEl.style.display =\n",
              "          google.colab.kernel.accessAllowed ? 'block' : 'none';\n",
              "\n",
              "        async function convertToInteractive(key) {\n",
              "          const element = document.querySelector('#df-ddf6a517-d345-48c4-9a7e-462f2c6ecec1');\n",
              "          const dataTable =\n",
              "            await google.colab.kernel.invokeFunction('convertToInteractive',\n",
              "                                                     [key], {});\n",
              "          if (!dataTable) return;\n",
              "\n",
              "          const docLinkHtml = 'Like what you see? Visit the ' +\n",
              "            '<a target=\"_blank\" href=https://colab.research.google.com/notebooks/data_table.ipynb>data table notebook</a>'\n",
              "            + ' to learn more about interactive tables.';\n",
              "          element.innerHTML = '';\n",
              "          dataTable['output_type'] = 'display_data';\n",
              "          await google.colab.output.renderOutput(dataTable, element);\n",
              "          const docLink = document.createElement('div');\n",
              "          docLink.innerHTML = docLinkHtml;\n",
              "          element.appendChild(docLink);\n",
              "        }\n",
              "      </script>\n",
              "    </div>\n",
              "  </div>\n",
              "  "
            ]
          },
          "metadata": {},
          "execution_count": 110
        }
      ]
    },
    {
      "cell_type": "code",
      "source": [
        "# channelTitle만 추출하고 이미 상위 10개로 추출했으므로 unique나 drop을 통해 중복을 없애준다."
      ],
      "metadata": {
        "id": "6C4jcmonr8Ic"
      },
      "execution_count": 112,
      "outputs": []
    },
    {
      "cell_type": "code",
      "source": [
        "# 1-3.1"
      ],
      "metadata": {
        "id": "qvLtuV9NsObY"
      },
      "execution_count": 113,
      "outputs": []
    },
    {
      "cell_type": "code",
      "source": [
        "my_answer = list(new['channelTitle'].drop_duplicates())\n",
        "print(my_answer)"
      ],
      "metadata": {
        "colab": {
          "base_uri": "https://localhost:8080/"
        },
        "id": "AFxJGXuYr9oB",
        "outputId": "182f1825-d7e5-41b8-cc33-9d8ed083fcc3"
      },
      "execution_count": 117,
      "outputs": [
        {
          "output_type": "stream",
          "name": "stdout",
          "text": [
            "['장삐쭈', '총몇명', '파뿌리', '짤툰', '런닝맨 - 스브스 공식 채널', '엠뚜루마뚜루 : MBC 공식 종합 채널', 'SPOTV', '채널 십오야', '이과장', 'BANGTANTV']\n"
          ]
        }
      ]
    },
    {
      "cell_type": "code",
      "source": [
        "my_answer = list(new['channelTitle'].unique())\n",
        "print(my_answer)"
      ],
      "metadata": {
        "colab": {
          "base_uri": "https://localhost:8080/"
        },
        "id": "s0Myfr17uYlX",
        "outputId": "201f727d-1e1f-4d41-f04e-2b6b7368917f"
      },
      "execution_count": 144,
      "outputs": [
        {
          "output_type": "stream",
          "name": "stdout",
          "text": [
            "['장삐쭈', '총몇명', '파뿌리', '짤툰', '런닝맨 - 스브스 공식 채널', '엠뚜루마뚜루 : MBC 공식 종합 채널', 'SPOTV', '채널 십오야', '이과장', 'BANGTANTV']\n"
          ]
        }
      ]
    },
    {
      "cell_type": "code",
      "source": [
        "# 2-1 value_counts로 channelId별 행 개수를 카운트하고 상위 10개의 인덱스 추출"
      ],
      "metadata": {
        "id": "O6Ex0-9suiI0"
      },
      "execution_count": null,
      "outputs": []
    },
    {
      "cell_type": "code",
      "source": [
        "index = df.value_counts('channelId').head(10).index\n",
        "index"
      ],
      "metadata": {
        "colab": {
          "base_uri": "https://localhost:8080/"
        },
        "id": "ZiciJqGtvPce",
        "outputId": "19b2ffe0-ebc3-4a36-f83f-de0b107d41e5"
      },
      "execution_count": 153,
      "outputs": [
        {
          "output_type": "execute_result",
          "data": {
            "text/plain": [
              "Index(['UCszFjh7CEfwDb7UUGb4RzCQ', 'UCtm_QoN2SIxwCE-59shX7Qg',\n",
              "       'UClzB2iZ5jPoTNz0S-QU6Wiw', 'UCaKod3X1Tn4c7Ci0iUKcvzQ',\n",
              "       'UCiwQRG2sCcfjKkgxMEdJGPg', 'UChbE5OZQ6dRHECsX0tEPEZQ',\n",
              "       'UCLkAepWjdylmXSltofFvsYQ', 'UCQ2O-iftmnlfrBuNsUUTofQ',\n",
              "       'UCtfriFvIe5gIe8wRWb8UTMg', 'UCRuSxVu4iqTK5kCh90ntAgA'],\n",
              "      dtype='object', name='channelId')"
            ]
          },
          "metadata": {},
          "execution_count": 153
        }
      ]
    },
    {
      "cell_type": "code",
      "source": [
        "# 2-2 기존 데이터프레임에서 index를 포함하는 행들 모두 구하기"
      ],
      "metadata": {
        "id": "Ms8VGnF2vdrv"
      },
      "execution_count": 155,
      "outputs": []
    },
    {
      "cell_type": "code",
      "source": [
        "df[df['channelId'].isin(index)]"
      ],
      "metadata": {
        "colab": {
          "base_uri": "https://localhost:8080/",
          "height": 502
        },
        "id": "Uf4LlB9evcTj",
        "outputId": "4debc857-5cd0-4dc2-f0e9-d46749db7cf6"
      },
      "execution_count": 156,
      "outputs": [
        {
          "output_type": "execute_result",
          "data": {
            "text/plain": [
              "                                                   title  \\\n",
              "0                                              [신병] 물자창고   \n",
              "27                                       새 식구 [총몇명 스토리2]   \n",
              "32                   하루종일 탄산에 빠지면 어떻게 될까?! 물대신 탄산만 먹음...   \n",
              "76                                             [병영일기] 부식   \n",
              "79                                                 긴급 회의   \n",
              "...                                                  ...   \n",
              "60241                                     [짐승친구들] 느그 이름은   \n",
              "60242             24시간동안 크림 먹기 VS 팥 먹기!! 어떤 요리가 더 맛있을까?!   \n",
              "60271  [전참시] 훅 들어오는 남편의 모닝 이벤트부터 SWAG 힙한 딸까지💃 엄마 아이키의...   \n",
              "60305                                            뼈맞고순살파티   \n",
              "60327  24시간동안 10,000칼로리 먹기 vs 0칼로리 먹기!! 0칼로리만 먹어도 배부를까?!   \n",
              "\n",
              "                channelTitle  categoryId  view_count  likes  dislikes  \\\n",
              "0                        장삐쭈          23     1893473  38249       730   \n",
              "27                       총몇명           1     1274926  33739       728   \n",
              "32                       파뿌리          24      736670  11307       632   \n",
              "76                        짤툰           1     1496529  26284      1422   \n",
              "79                       총몇명           1     1273557  53472      1243   \n",
              "...                      ...         ...         ...    ...       ...   \n",
              "60241                     짤툰           1     1374286  28365       510   \n",
              "60242                    파뿌리          24      860037  13053       516   \n",
              "60271  엠뚜루마뚜루 : MBC 공식 종합 채널          24     3311230  38387       653   \n",
              "60305        런닝맨 - 스브스 공식 채널          24     1994787  20947       497   \n",
              "60327                    파뿌리          24     1571843  19280       773   \n",
              "\n",
              "       comment_count                 channelId trending_date2  \n",
              "0               8595  UChbE5OZQ6dRHECsX0tEPEZQ     2021-01-01  \n",
              "27              4373  UCRuSxVu4iqTK5kCh90ntAgA     2021-01-01  \n",
              "32              5302  UClzB2iZ5jPoTNz0S-QU6Wiw     2021-01-01  \n",
              "76              5710  UCszFjh7CEfwDb7UUGb4RzCQ     2021-01-01  \n",
              "79              7679  UCRuSxVu4iqTK5kCh90ntAgA     2021-01-01  \n",
              "...              ...                       ...            ...  \n",
              "60241           2807  UCszFjh7CEfwDb7UUGb4RzCQ     2021-10-19  \n",
              "60242           3319  UClzB2iZ5jPoTNz0S-QU6Wiw     2021-10-19  \n",
              "60271           1726  UCiwQRG2sCcfjKkgxMEdJGPg     2021-10-19  \n",
              "60305           2262  UCaKod3X1Tn4c7Ci0iUKcvzQ     2021-10-19  \n",
              "60327           4624  UClzB2iZ5jPoTNz0S-QU6Wiw     2021-10-19  \n",
              "\n",
              "[2959 rows x 9 columns]"
            ],
            "text/html": [
              "\n",
              "  <div id=\"df-b7671434-cdb8-4b05-bb28-715333df96fb\">\n",
              "    <div class=\"colab-df-container\">\n",
              "      <div>\n",
              "<style scoped>\n",
              "    .dataframe tbody tr th:only-of-type {\n",
              "        vertical-align: middle;\n",
              "    }\n",
              "\n",
              "    .dataframe tbody tr th {\n",
              "        vertical-align: top;\n",
              "    }\n",
              "\n",
              "    .dataframe thead th {\n",
              "        text-align: right;\n",
              "    }\n",
              "</style>\n",
              "<table border=\"1\" class=\"dataframe\">\n",
              "  <thead>\n",
              "    <tr style=\"text-align: right;\">\n",
              "      <th></th>\n",
              "      <th>title</th>\n",
              "      <th>channelTitle</th>\n",
              "      <th>categoryId</th>\n",
              "      <th>view_count</th>\n",
              "      <th>likes</th>\n",
              "      <th>dislikes</th>\n",
              "      <th>comment_count</th>\n",
              "      <th>channelId</th>\n",
              "      <th>trending_date2</th>\n",
              "    </tr>\n",
              "  </thead>\n",
              "  <tbody>\n",
              "    <tr>\n",
              "      <th>0</th>\n",
              "      <td>[신병] 물자창고</td>\n",
              "      <td>장삐쭈</td>\n",
              "      <td>23</td>\n",
              "      <td>1893473</td>\n",
              "      <td>38249</td>\n",
              "      <td>730</td>\n",
              "      <td>8595</td>\n",
              "      <td>UChbE5OZQ6dRHECsX0tEPEZQ</td>\n",
              "      <td>2021-01-01</td>\n",
              "    </tr>\n",
              "    <tr>\n",
              "      <th>27</th>\n",
              "      <td>새 식구 [총몇명 스토리2]</td>\n",
              "      <td>총몇명</td>\n",
              "      <td>1</td>\n",
              "      <td>1274926</td>\n",
              "      <td>33739</td>\n",
              "      <td>728</td>\n",
              "      <td>4373</td>\n",
              "      <td>UCRuSxVu4iqTK5kCh90ntAgA</td>\n",
              "      <td>2021-01-01</td>\n",
              "    </tr>\n",
              "    <tr>\n",
              "      <th>32</th>\n",
              "      <td>하루종일 탄산에 빠지면 어떻게 될까?! 물대신 탄산만 먹음...</td>\n",
              "      <td>파뿌리</td>\n",
              "      <td>24</td>\n",
              "      <td>736670</td>\n",
              "      <td>11307</td>\n",
              "      <td>632</td>\n",
              "      <td>5302</td>\n",
              "      <td>UClzB2iZ5jPoTNz0S-QU6Wiw</td>\n",
              "      <td>2021-01-01</td>\n",
              "    </tr>\n",
              "    <tr>\n",
              "      <th>76</th>\n",
              "      <td>[병영일기] 부식</td>\n",
              "      <td>짤툰</td>\n",
              "      <td>1</td>\n",
              "      <td>1496529</td>\n",
              "      <td>26284</td>\n",
              "      <td>1422</td>\n",
              "      <td>5710</td>\n",
              "      <td>UCszFjh7CEfwDb7UUGb4RzCQ</td>\n",
              "      <td>2021-01-01</td>\n",
              "    </tr>\n",
              "    <tr>\n",
              "      <th>79</th>\n",
              "      <td>긴급 회의</td>\n",
              "      <td>총몇명</td>\n",
              "      <td>1</td>\n",
              "      <td>1273557</td>\n",
              "      <td>53472</td>\n",
              "      <td>1243</td>\n",
              "      <td>7679</td>\n",
              "      <td>UCRuSxVu4iqTK5kCh90ntAgA</td>\n",
              "      <td>2021-01-01</td>\n",
              "    </tr>\n",
              "    <tr>\n",
              "      <th>...</th>\n",
              "      <td>...</td>\n",
              "      <td>...</td>\n",
              "      <td>...</td>\n",
              "      <td>...</td>\n",
              "      <td>...</td>\n",
              "      <td>...</td>\n",
              "      <td>...</td>\n",
              "      <td>...</td>\n",
              "      <td>...</td>\n",
              "    </tr>\n",
              "    <tr>\n",
              "      <th>60241</th>\n",
              "      <td>[짐승친구들] 느그 이름은</td>\n",
              "      <td>짤툰</td>\n",
              "      <td>1</td>\n",
              "      <td>1374286</td>\n",
              "      <td>28365</td>\n",
              "      <td>510</td>\n",
              "      <td>2807</td>\n",
              "      <td>UCszFjh7CEfwDb7UUGb4RzCQ</td>\n",
              "      <td>2021-10-19</td>\n",
              "    </tr>\n",
              "    <tr>\n",
              "      <th>60242</th>\n",
              "      <td>24시간동안 크림 먹기 VS 팥 먹기!! 어떤 요리가 더 맛있을까?!</td>\n",
              "      <td>파뿌리</td>\n",
              "      <td>24</td>\n",
              "      <td>860037</td>\n",
              "      <td>13053</td>\n",
              "      <td>516</td>\n",
              "      <td>3319</td>\n",
              "      <td>UClzB2iZ5jPoTNz0S-QU6Wiw</td>\n",
              "      <td>2021-10-19</td>\n",
              "    </tr>\n",
              "    <tr>\n",
              "      <th>60271</th>\n",
              "      <td>[전참시] 훅 들어오는 남편의 모닝 이벤트부터 SWAG 힙한 딸까지💃 엄마 아이키의...</td>\n",
              "      <td>엠뚜루마뚜루 : MBC 공식 종합 채널</td>\n",
              "      <td>24</td>\n",
              "      <td>3311230</td>\n",
              "      <td>38387</td>\n",
              "      <td>653</td>\n",
              "      <td>1726</td>\n",
              "      <td>UCiwQRG2sCcfjKkgxMEdJGPg</td>\n",
              "      <td>2021-10-19</td>\n",
              "    </tr>\n",
              "    <tr>\n",
              "      <th>60305</th>\n",
              "      <td>뼈맞고순살파티</td>\n",
              "      <td>런닝맨 - 스브스 공식 채널</td>\n",
              "      <td>24</td>\n",
              "      <td>1994787</td>\n",
              "      <td>20947</td>\n",
              "      <td>497</td>\n",
              "      <td>2262</td>\n",
              "      <td>UCaKod3X1Tn4c7Ci0iUKcvzQ</td>\n",
              "      <td>2021-10-19</td>\n",
              "    </tr>\n",
              "    <tr>\n",
              "      <th>60327</th>\n",
              "      <td>24시간동안 10,000칼로리 먹기 vs 0칼로리 먹기!! 0칼로리만 먹어도 배부를까?!</td>\n",
              "      <td>파뿌리</td>\n",
              "      <td>24</td>\n",
              "      <td>1571843</td>\n",
              "      <td>19280</td>\n",
              "      <td>773</td>\n",
              "      <td>4624</td>\n",
              "      <td>UClzB2iZ5jPoTNz0S-QU6Wiw</td>\n",
              "      <td>2021-10-19</td>\n",
              "    </tr>\n",
              "  </tbody>\n",
              "</table>\n",
              "<p>2959 rows × 9 columns</p>\n",
              "</div>\n",
              "      <button class=\"colab-df-convert\" onclick=\"convertToInteractive('df-b7671434-cdb8-4b05-bb28-715333df96fb')\"\n",
              "              title=\"Convert this dataframe to an interactive table.\"\n",
              "              style=\"display:none;\">\n",
              "        \n",
              "  <svg xmlns=\"http://www.w3.org/2000/svg\" height=\"24px\"viewBox=\"0 0 24 24\"\n",
              "       width=\"24px\">\n",
              "    <path d=\"M0 0h24v24H0V0z\" fill=\"none\"/>\n",
              "    <path d=\"M18.56 5.44l.94 2.06.94-2.06 2.06-.94-2.06-.94-.94-2.06-.94 2.06-2.06.94zm-11 1L8.5 8.5l.94-2.06 2.06-.94-2.06-.94L8.5 2.5l-.94 2.06-2.06.94zm10 10l.94 2.06.94-2.06 2.06-.94-2.06-.94-.94-2.06-.94 2.06-2.06.94z\"/><path d=\"M17.41 7.96l-1.37-1.37c-.4-.4-.92-.59-1.43-.59-.52 0-1.04.2-1.43.59L10.3 9.45l-7.72 7.72c-.78.78-.78 2.05 0 2.83L4 21.41c.39.39.9.59 1.41.59.51 0 1.02-.2 1.41-.59l7.78-7.78 2.81-2.81c.8-.78.8-2.07 0-2.86zM5.41 20L4 18.59l7.72-7.72 1.47 1.35L5.41 20z\"/>\n",
              "  </svg>\n",
              "      </button>\n",
              "      \n",
              "  <style>\n",
              "    .colab-df-container {\n",
              "      display:flex;\n",
              "      flex-wrap:wrap;\n",
              "      gap: 12px;\n",
              "    }\n",
              "\n",
              "    .colab-df-convert {\n",
              "      background-color: #E8F0FE;\n",
              "      border: none;\n",
              "      border-radius: 50%;\n",
              "      cursor: pointer;\n",
              "      display: none;\n",
              "      fill: #1967D2;\n",
              "      height: 32px;\n",
              "      padding: 0 0 0 0;\n",
              "      width: 32px;\n",
              "    }\n",
              "\n",
              "    .colab-df-convert:hover {\n",
              "      background-color: #E2EBFA;\n",
              "      box-shadow: 0px 1px 2px rgba(60, 64, 67, 0.3), 0px 1px 3px 1px rgba(60, 64, 67, 0.15);\n",
              "      fill: #174EA6;\n",
              "    }\n",
              "\n",
              "    [theme=dark] .colab-df-convert {\n",
              "      background-color: #3B4455;\n",
              "      fill: #D2E3FC;\n",
              "    }\n",
              "\n",
              "    [theme=dark] .colab-df-convert:hover {\n",
              "      background-color: #434B5C;\n",
              "      box-shadow: 0px 1px 3px 1px rgba(0, 0, 0, 0.15);\n",
              "      filter: drop-shadow(0px 1px 2px rgba(0, 0, 0, 0.3));\n",
              "      fill: #FFFFFF;\n",
              "    }\n",
              "  </style>\n",
              "\n",
              "      <script>\n",
              "        const buttonEl =\n",
              "          document.querySelector('#df-b7671434-cdb8-4b05-bb28-715333df96fb button.colab-df-convert');\n",
              "        buttonEl.style.display =\n",
              "          google.colab.kernel.accessAllowed ? 'block' : 'none';\n",
              "\n",
              "        async function convertToInteractive(key) {\n",
              "          const element = document.querySelector('#df-b7671434-cdb8-4b05-bb28-715333df96fb');\n",
              "          const dataTable =\n",
              "            await google.colab.kernel.invokeFunction('convertToInteractive',\n",
              "                                                     [key], {});\n",
              "          if (!dataTable) return;\n",
              "\n",
              "          const docLinkHtml = 'Like what you see? Visit the ' +\n",
              "            '<a target=\"_blank\" href=https://colab.research.google.com/notebooks/data_table.ipynb>data table notebook</a>'\n",
              "            + ' to learn more about interactive tables.';\n",
              "          element.innerHTML = '';\n",
              "          dataTable['output_type'] = 'display_data';\n",
              "          await google.colab.output.renderOutput(dataTable, element);\n",
              "          const docLink = document.createElement('div');\n",
              "          docLink.innerHTML = docLinkHtml;\n",
              "          element.appendChild(docLink);\n",
              "        }\n",
              "      </script>\n",
              "    </div>\n",
              "  </div>\n",
              "  "
            ]
          },
          "metadata": {},
          "execution_count": 156
        }
      ]
    },
    {
      "cell_type": "code",
      "source": [
        "# 2-3 channelTItle만 추출하고 unique로 중복 없애서 list로 뽑기"
      ],
      "metadata": {
        "id": "bCl1JIMrvns3"
      },
      "execution_count": 157,
      "outputs": []
    },
    {
      "cell_type": "code",
      "source": [
        "my_answer = list(df[df['channelId'].isin(index)]['channelTitle'].unique())\n",
        "print(my_answer)"
      ],
      "metadata": {
        "colab": {
          "base_uri": "https://localhost:8080/"
        },
        "id": "wV48P0KNuy6M",
        "outputId": "24316ff4-9850-4486-d306-7e79bd3b752e"
      },
      "execution_count": 160,
      "outputs": [
        {
          "output_type": "stream",
          "name": "stdout",
          "text": [
            "['장삐쭈', '총몇명', '파뿌리', '짤툰', '런닝맨 - 스브스 공식 채널', '엠뚜루마뚜루 : MBC 공식 종합 채널', 'SPOTV', '채널 십오야', '이과장', 'BANGTANTV']\n"
          ]
        }
      ]
    },
    {
      "cell_type": "code",
      "source": [
        "answer =list(df.loc[df.channelId.isin(df.channelId.value_counts().head(10).index)].channelTitle.unique())\n",
        "print(answer)"
      ],
      "metadata": {
        "colab": {
          "base_uri": "https://localhost:8080/"
        },
        "id": "BZqa2g-JmOSp",
        "outputId": "a7f70f52-b82f-4043-a06e-1204590763d9"
      },
      "execution_count": 6,
      "outputs": [
        {
          "output_type": "stream",
          "name": "stdout",
          "text": [
            "['장삐쭈', '총몇명', '파뿌리', '짤툰', '런닝맨 - 스브스 공식 채널', '엠뚜루마뚜루 : MBC 공식 종합 채널', 'SPOTV', '채널 십오야', '이과장', 'BANGTANTV']\n"
          ]
        }
      ]
    },
    {
      "cell_type": "code",
      "source": [
        "my_answer == answer"
      ],
      "metadata": {
        "colab": {
          "base_uri": "https://localhost:8080/"
        },
        "id": "aFhx8PQVqowJ",
        "outputId": "be057618-11bd-411e-9da6-fa44888fddd1"
      },
      "execution_count": 7,
      "outputs": [
        {
          "output_type": "execute_result",
          "data": {
            "text/plain": [
              "True"
            ]
          },
          "metadata": {},
          "execution_count": 7
        }
      ]
    },
    {
      "cell_type": "code",
      "source": [
        "# Q. 논란으로 인기동영상이 된 케이스를 확인하고 싶다. dislikes수가 like 수보다 높은 동영상을 제작한 채널을 모두 출력하라"
      ],
      "metadata": {
        "id": "8IqiTtFEp2RJ"
      },
      "execution_count": 8,
      "outputs": []
    },
    {
      "cell_type": "code",
      "source": [
        "# 1. dislikes가 likes 보다 높다는 조건으로 구하기"
      ],
      "metadata": {
        "id": "MyMpyEHD3WPh"
      },
      "execution_count": 211,
      "outputs": []
    },
    {
      "cell_type": "code",
      "source": [
        "new = df[df['dislikes'] > df['likes']]\n",
        "new"
      ],
      "metadata": {
        "colab": {
          "base_uri": "https://localhost:8080/",
          "height": 423
        },
        "id": "Wx87NH9Q3EMV",
        "outputId": "db96414b-56bf-4659-ae49-e542e4245243"
      },
      "execution_count": 214,
      "outputs": [
        {
          "output_type": "execute_result",
          "data": {
            "text/plain": [
              "                     title   channelTitle  categoryId  view_count  likes  \\\n",
              "1805      안녕하세요, 핫도그TV입니다.          핫도그TV          24     1610542  16339   \n",
              "2008      안녕하세요, 핫도그TV입니다.          핫도그TV          24     1926778  16728   \n",
              "2233      안녕하세요, 핫도그TV입니다.          핫도그TV          24     2093168  16905   \n",
              "2452      안녕하세요, 핫도그TV입니다.          핫도그TV          24     2180815  17005   \n",
              "2680      안녕하세요, 핫도그TV입니다.          핫도그TV          24     2232343  17104   \n",
              "...                    ...            ...         ...         ...    ...   \n",
              "52344    ALL IN | EP04. 추락  Gen.G esports          20      113017    774   \n",
              "52551  ALL IN | EP05. 불협화음  Gen.G esports          20      135083    889   \n",
              "52554    ALL IN | EP04. 추락  Gen.G esports          20      115047    781   \n",
              "52772  ALL IN | EP05. 불협화음  Gen.G esports          20      138531    902   \n",
              "52776    ALL IN | EP04. 추락  Gen.G esports          20      117669    788   \n",
              "\n",
              "       dislikes  comment_count                 channelId trending_date2  \n",
              "1805      26315          26371  UC5Ida86tt8QKa4Myw7idxNg     2021-01-10  \n",
              "2008      30201          28428  UC5Ida86tt8QKa4Myw7idxNg     2021-01-11  \n",
              "2233      32073          29773  UC5Ida86tt8QKa4Myw7idxNg     2021-01-12  \n",
              "2452      32919          30521  UC5Ida86tt8QKa4Myw7idxNg     2021-01-13  \n",
              "2680      33429          30936  UC5Ida86tt8QKa4Myw7idxNg     2021-01-14  \n",
              "...         ...            ...                       ...            ...  \n",
              "52344      1063            654  UCDmmbxGg8g-EBkC_ku6vybg     2021-09-09  \n",
              "52551      1116            900  UCDmmbxGg8g-EBkC_ku6vybg     2021-09-10  \n",
              "52554      1071            659  UCDmmbxGg8g-EBkC_ku6vybg     2021-09-10  \n",
              "52772      1148            925  UCDmmbxGg8g-EBkC_ku6vybg     2021-09-11  \n",
              "52776      1087            667  UCDmmbxGg8g-EBkC_ku6vybg     2021-09-11  \n",
              "\n",
              "[143 rows x 9 columns]"
            ],
            "text/html": [
              "\n",
              "  <div id=\"df-ab4396ef-029b-4874-a74c-c5b536f21074\">\n",
              "    <div class=\"colab-df-container\">\n",
              "      <div>\n",
              "<style scoped>\n",
              "    .dataframe tbody tr th:only-of-type {\n",
              "        vertical-align: middle;\n",
              "    }\n",
              "\n",
              "    .dataframe tbody tr th {\n",
              "        vertical-align: top;\n",
              "    }\n",
              "\n",
              "    .dataframe thead th {\n",
              "        text-align: right;\n",
              "    }\n",
              "</style>\n",
              "<table border=\"1\" class=\"dataframe\">\n",
              "  <thead>\n",
              "    <tr style=\"text-align: right;\">\n",
              "      <th></th>\n",
              "      <th>title</th>\n",
              "      <th>channelTitle</th>\n",
              "      <th>categoryId</th>\n",
              "      <th>view_count</th>\n",
              "      <th>likes</th>\n",
              "      <th>dislikes</th>\n",
              "      <th>comment_count</th>\n",
              "      <th>channelId</th>\n",
              "      <th>trending_date2</th>\n",
              "    </tr>\n",
              "  </thead>\n",
              "  <tbody>\n",
              "    <tr>\n",
              "      <th>1805</th>\n",
              "      <td>안녕하세요, 핫도그TV입니다.</td>\n",
              "      <td>핫도그TV</td>\n",
              "      <td>24</td>\n",
              "      <td>1610542</td>\n",
              "      <td>16339</td>\n",
              "      <td>26315</td>\n",
              "      <td>26371</td>\n",
              "      <td>UC5Ida86tt8QKa4Myw7idxNg</td>\n",
              "      <td>2021-01-10</td>\n",
              "    </tr>\n",
              "    <tr>\n",
              "      <th>2008</th>\n",
              "      <td>안녕하세요, 핫도그TV입니다.</td>\n",
              "      <td>핫도그TV</td>\n",
              "      <td>24</td>\n",
              "      <td>1926778</td>\n",
              "      <td>16728</td>\n",
              "      <td>30201</td>\n",
              "      <td>28428</td>\n",
              "      <td>UC5Ida86tt8QKa4Myw7idxNg</td>\n",
              "      <td>2021-01-11</td>\n",
              "    </tr>\n",
              "    <tr>\n",
              "      <th>2233</th>\n",
              "      <td>안녕하세요, 핫도그TV입니다.</td>\n",
              "      <td>핫도그TV</td>\n",
              "      <td>24</td>\n",
              "      <td>2093168</td>\n",
              "      <td>16905</td>\n",
              "      <td>32073</td>\n",
              "      <td>29773</td>\n",
              "      <td>UC5Ida86tt8QKa4Myw7idxNg</td>\n",
              "      <td>2021-01-12</td>\n",
              "    </tr>\n",
              "    <tr>\n",
              "      <th>2452</th>\n",
              "      <td>안녕하세요, 핫도그TV입니다.</td>\n",
              "      <td>핫도그TV</td>\n",
              "      <td>24</td>\n",
              "      <td>2180815</td>\n",
              "      <td>17005</td>\n",
              "      <td>32919</td>\n",
              "      <td>30521</td>\n",
              "      <td>UC5Ida86tt8QKa4Myw7idxNg</td>\n",
              "      <td>2021-01-13</td>\n",
              "    </tr>\n",
              "    <tr>\n",
              "      <th>2680</th>\n",
              "      <td>안녕하세요, 핫도그TV입니다.</td>\n",
              "      <td>핫도그TV</td>\n",
              "      <td>24</td>\n",
              "      <td>2232343</td>\n",
              "      <td>17104</td>\n",
              "      <td>33429</td>\n",
              "      <td>30936</td>\n",
              "      <td>UC5Ida86tt8QKa4Myw7idxNg</td>\n",
              "      <td>2021-01-14</td>\n",
              "    </tr>\n",
              "    <tr>\n",
              "      <th>...</th>\n",
              "      <td>...</td>\n",
              "      <td>...</td>\n",
              "      <td>...</td>\n",
              "      <td>...</td>\n",
              "      <td>...</td>\n",
              "      <td>...</td>\n",
              "      <td>...</td>\n",
              "      <td>...</td>\n",
              "      <td>...</td>\n",
              "    </tr>\n",
              "    <tr>\n",
              "      <th>52344</th>\n",
              "      <td>ALL IN | EP04. 추락</td>\n",
              "      <td>Gen.G esports</td>\n",
              "      <td>20</td>\n",
              "      <td>113017</td>\n",
              "      <td>774</td>\n",
              "      <td>1063</td>\n",
              "      <td>654</td>\n",
              "      <td>UCDmmbxGg8g-EBkC_ku6vybg</td>\n",
              "      <td>2021-09-09</td>\n",
              "    </tr>\n",
              "    <tr>\n",
              "      <th>52551</th>\n",
              "      <td>ALL IN | EP05. 불협화음</td>\n",
              "      <td>Gen.G esports</td>\n",
              "      <td>20</td>\n",
              "      <td>135083</td>\n",
              "      <td>889</td>\n",
              "      <td>1116</td>\n",
              "      <td>900</td>\n",
              "      <td>UCDmmbxGg8g-EBkC_ku6vybg</td>\n",
              "      <td>2021-09-10</td>\n",
              "    </tr>\n",
              "    <tr>\n",
              "      <th>52554</th>\n",
              "      <td>ALL IN | EP04. 추락</td>\n",
              "      <td>Gen.G esports</td>\n",
              "      <td>20</td>\n",
              "      <td>115047</td>\n",
              "      <td>781</td>\n",
              "      <td>1071</td>\n",
              "      <td>659</td>\n",
              "      <td>UCDmmbxGg8g-EBkC_ku6vybg</td>\n",
              "      <td>2021-09-10</td>\n",
              "    </tr>\n",
              "    <tr>\n",
              "      <th>52772</th>\n",
              "      <td>ALL IN | EP05. 불협화음</td>\n",
              "      <td>Gen.G esports</td>\n",
              "      <td>20</td>\n",
              "      <td>138531</td>\n",
              "      <td>902</td>\n",
              "      <td>1148</td>\n",
              "      <td>925</td>\n",
              "      <td>UCDmmbxGg8g-EBkC_ku6vybg</td>\n",
              "      <td>2021-09-11</td>\n",
              "    </tr>\n",
              "    <tr>\n",
              "      <th>52776</th>\n",
              "      <td>ALL IN | EP04. 추락</td>\n",
              "      <td>Gen.G esports</td>\n",
              "      <td>20</td>\n",
              "      <td>117669</td>\n",
              "      <td>788</td>\n",
              "      <td>1087</td>\n",
              "      <td>667</td>\n",
              "      <td>UCDmmbxGg8g-EBkC_ku6vybg</td>\n",
              "      <td>2021-09-11</td>\n",
              "    </tr>\n",
              "  </tbody>\n",
              "</table>\n",
              "<p>143 rows × 9 columns</p>\n",
              "</div>\n",
              "      <button class=\"colab-df-convert\" onclick=\"convertToInteractive('df-ab4396ef-029b-4874-a74c-c5b536f21074')\"\n",
              "              title=\"Convert this dataframe to an interactive table.\"\n",
              "              style=\"display:none;\">\n",
              "        \n",
              "  <svg xmlns=\"http://www.w3.org/2000/svg\" height=\"24px\"viewBox=\"0 0 24 24\"\n",
              "       width=\"24px\">\n",
              "    <path d=\"M0 0h24v24H0V0z\" fill=\"none\"/>\n",
              "    <path d=\"M18.56 5.44l.94 2.06.94-2.06 2.06-.94-2.06-.94-.94-2.06-.94 2.06-2.06.94zm-11 1L8.5 8.5l.94-2.06 2.06-.94-2.06-.94L8.5 2.5l-.94 2.06-2.06.94zm10 10l.94 2.06.94-2.06 2.06-.94-2.06-.94-.94-2.06-.94 2.06-2.06.94z\"/><path d=\"M17.41 7.96l-1.37-1.37c-.4-.4-.92-.59-1.43-.59-.52 0-1.04.2-1.43.59L10.3 9.45l-7.72 7.72c-.78.78-.78 2.05 0 2.83L4 21.41c.39.39.9.59 1.41.59.51 0 1.02-.2 1.41-.59l7.78-7.78 2.81-2.81c.8-.78.8-2.07 0-2.86zM5.41 20L4 18.59l7.72-7.72 1.47 1.35L5.41 20z\"/>\n",
              "  </svg>\n",
              "      </button>\n",
              "      \n",
              "  <style>\n",
              "    .colab-df-container {\n",
              "      display:flex;\n",
              "      flex-wrap:wrap;\n",
              "      gap: 12px;\n",
              "    }\n",
              "\n",
              "    .colab-df-convert {\n",
              "      background-color: #E8F0FE;\n",
              "      border: none;\n",
              "      border-radius: 50%;\n",
              "      cursor: pointer;\n",
              "      display: none;\n",
              "      fill: #1967D2;\n",
              "      height: 32px;\n",
              "      padding: 0 0 0 0;\n",
              "      width: 32px;\n",
              "    }\n",
              "\n",
              "    .colab-df-convert:hover {\n",
              "      background-color: #E2EBFA;\n",
              "      box-shadow: 0px 1px 2px rgba(60, 64, 67, 0.3), 0px 1px 3px 1px rgba(60, 64, 67, 0.15);\n",
              "      fill: #174EA6;\n",
              "    }\n",
              "\n",
              "    [theme=dark] .colab-df-convert {\n",
              "      background-color: #3B4455;\n",
              "      fill: #D2E3FC;\n",
              "    }\n",
              "\n",
              "    [theme=dark] .colab-df-convert:hover {\n",
              "      background-color: #434B5C;\n",
              "      box-shadow: 0px 1px 3px 1px rgba(0, 0, 0, 0.15);\n",
              "      filter: drop-shadow(0px 1px 2px rgba(0, 0, 0, 0.3));\n",
              "      fill: #FFFFFF;\n",
              "    }\n",
              "  </style>\n",
              "\n",
              "      <script>\n",
              "        const buttonEl =\n",
              "          document.querySelector('#df-ab4396ef-029b-4874-a74c-c5b536f21074 button.colab-df-convert');\n",
              "        buttonEl.style.display =\n",
              "          google.colab.kernel.accessAllowed ? 'block' : 'none';\n",
              "\n",
              "        async function convertToInteractive(key) {\n",
              "          const element = document.querySelector('#df-ab4396ef-029b-4874-a74c-c5b536f21074');\n",
              "          const dataTable =\n",
              "            await google.colab.kernel.invokeFunction('convertToInteractive',\n",
              "                                                     [key], {});\n",
              "          if (!dataTable) return;\n",
              "\n",
              "          const docLinkHtml = 'Like what you see? Visit the ' +\n",
              "            '<a target=\"_blank\" href=https://colab.research.google.com/notebooks/data_table.ipynb>data table notebook</a>'\n",
              "            + ' to learn more about interactive tables.';\n",
              "          element.innerHTML = '';\n",
              "          dataTable['output_type'] = 'display_data';\n",
              "          await google.colab.output.renderOutput(dataTable, element);\n",
              "          const docLink = document.createElement('div');\n",
              "          docLink.innerHTML = docLinkHtml;\n",
              "          element.appendChild(docLink);\n",
              "        }\n",
              "      </script>\n",
              "    </div>\n",
              "  </div>\n",
              "  "
            ]
          },
          "metadata": {},
          "execution_count": 214
        }
      ]
    },
    {
      "cell_type": "code",
      "source": [
        "# 2. channelTitle만 추출하고 unique로 중복 제거"
      ],
      "metadata": {
        "id": "rRJoFI2A4Cac"
      },
      "execution_count": 215,
      "outputs": []
    },
    {
      "cell_type": "code",
      "source": [
        "my_answer = list(new['channelTitle'].unique())\n",
        "print(my_answer)"
      ],
      "metadata": {
        "colab": {
          "base_uri": "https://localhost:8080/"
        },
        "id": "d3CcMCh14GLk",
        "outputId": "129e7f4b-6b99-45a3-84d6-f2fdefb7f7a5"
      },
      "execution_count": 216,
      "outputs": [
        {
          "output_type": "execute_result",
          "data": {
            "text/plain": [
              "array(['핫도그TV', 'ASMR 애정TV', '하얀트리HayanTree', '양팡 YangPang',\n",
              "       '철구형 (CHULTUBE)', '왜냐맨하우스', '(MUTUBE)와꾸대장봉준', '오메킴TV', '육지담',\n",
              "       'MapleStory_KR', 'ROAD FIGHTING CHAMPIONSHIP', '사나이 김기훈',\n",
              "       '나혼자산다 STUDIO', 'Gen.G esports'], dtype=object)"
            ]
          },
          "metadata": {},
          "execution_count": 216
        }
      ]
    },
    {
      "cell_type": "code",
      "source": [
        "answer =list(df.loc[df.likes < df.dislikes].channelTitle.unique())\n",
        "print(answer)"
      ],
      "metadata": {
        "colab": {
          "base_uri": "https://localhost:8080/"
        },
        "id": "pEGBE2hHqPGt",
        "outputId": "b3347afe-49e3-4cb3-eef6-49f677ff7b99"
      },
      "execution_count": 10,
      "outputs": [
        {
          "output_type": "stream",
          "name": "stdout",
          "text": [
            "['핫도그TV', 'ASMR 애정TV', '하얀트리HayanTree', '양팡 YangPang', '철구형 (CHULTUBE)', '왜냐맨하우스', '(MUTUBE)와꾸대장봉준', '오메킴TV', '육지담', 'MapleStory_KR', 'ROAD FIGHTING CHAMPIONSHIP', '사나이 김기훈', '나혼자산다 STUDIO', 'Gen.G esports']\n"
          ]
        }
      ]
    },
    {
      "cell_type": "code",
      "source": [
        "my_answer == answer"
      ],
      "metadata": {
        "colab": {
          "base_uri": "https://localhost:8080/"
        },
        "id": "Kuy7j3YPqcxL",
        "outputId": "79ed0be8-736d-43de-f5b7-9ac62502ba70"
      },
      "execution_count": 11,
      "outputs": [
        {
          "output_type": "execute_result",
          "data": {
            "text/plain": [
              "True"
            ]
          },
          "metadata": {},
          "execution_count": 11
        }
      ]
    },
    {
      "cell_type": "code",
      "source": [
        "# Q. 채널명을 바꾼 케이스가 있는지 확인하고 싶다. channelId의 경우 고유값이므로 이를 통해 채널명을 한번이라도 바꾼 채널의 갯수를 구하여라 > 복습 필요"
      ],
      "metadata": {
        "id": "mHH6QC6Aqnbf"
      },
      "execution_count": 12,
      "outputs": []
    },
    {
      "cell_type": "code",
      "source": [
        "# channelId는 같지만 channelTitle이 달라진 경우를 구해야 한다.\n",
        "# channelId만으로 중복을 제거하면,\n",
        "# 1. channelTitle : 커피, channelId : A\n",
        "# 2. channelTitle : 카페, channelId : A\n",
        "# 1만 남게 되어 channelTitle이 달라진 경우를 구할 수 없다.\n",
        "# 따라서, drop_duplicates()에 리스트 형태로 ['channelTitle', 'channelId']를 넣어주면 원하는 결과를 얻을 수 있을 것이다."
      ],
      "metadata": {
        "id": "b_Maz4BCwBTX"
      },
      "execution_count": null,
      "outputs": []
    },
    {
      "cell_type": "code",
      "source": [
        "# 1. channelTitle과 channelId를 기준으로 중복 제거"
      ],
      "metadata": {
        "id": "8rAjHwuBxXmL"
      },
      "execution_count": null,
      "outputs": []
    },
    {
      "cell_type": "code",
      "source": [
        "df_drop = df.drop_duplicates(['channelTitle','channelId'])\n",
        "df_drop"
      ],
      "metadata": {
        "colab": {
          "base_uri": "https://localhost:8080/",
          "height": 537
        },
        "id": "Irgs1l_Iv5jW",
        "outputId": "092889ce-3088-4dec-cac2-f73f7c8d50c6"
      },
      "execution_count": 186,
      "outputs": [
        {
          "output_type": "execute_result",
          "data": {
            "text/plain": [
              "                                                   title  \\\n",
              "0                                              [신병] 물자창고   \n",
              "1       RAIN(비) - 나로 바꾸자 Switch to me (duet with JYP) MV   \n",
              "2           2020년 제야의 종 온라인 타종행사 | 보신각 현장 행사는 진행하지 않습니다.   \n",
              "3                                           고기남자의 칠면조 파티   \n",
              "4      골목 3mc를 분노하게 만든 마음고생이 심했을 공릉 백반집 사장님의 푸념?! [예능...   \n",
              "...                                                  ...   \n",
              "60023            태권도 4단의 발차기실력ㅋㅋㅋ(ft.멸치터트리기,못함주의)#shorts   \n",
              "60028     끼니 거른 엄마가 국밥을 만나면 생기는 일 🎁이벤트 있음! #Shorts #행보카당   \n",
              "60035       이사하는 날! 집꾸미기🎀/인싸 인테리어🌿/ 셀프 베란다 타일 /호텔식 수건접기🏠   \n",
              "60036        (With Sub) 인싸'S BAR 오픈🍹🍸 : 서울에서 꼭 가봐야 할 장소✨   \n",
              "60068                       모여봐요 동물의 숲 Direct 2021.10.15   \n",
              "\n",
              "                  channelTitle  categoryId  view_count  likes  dislikes  \\\n",
              "0                          장삐쭈          23     1893473  38249       730   \n",
              "1      RAIN's Official Channel          10     2600864      0         0   \n",
              "2                  서울시 · Seoul          29      347049   3564       120   \n",
              "3                 고기남자 MeatMan          26      528458  15372       280   \n",
              "4                        스브스밥집          24      494904   3918       111   \n",
              "...                        ...         ...         ...    ...       ...   \n",
              "60023                      멸치형          23      726697  10714       989   \n",
              "60028          키키TV, 전지적 예능 시점          24      470316  12940       507   \n",
              "60035                    기용이tv          22      155857   3421        34   \n",
              "60036       INSSAOPPA G [인싸오빠]          24       69373   9258        17   \n",
              "60068              한국닌텐도 공식 채널          20      219994      0         0   \n",
              "\n",
              "       comment_count                 channelId trending_date2  \n",
              "0               8595  UChbE5OZQ6dRHECsX0tEPEZQ     2021-01-01  \n",
              "1              20129  UCxXgIeE5hxWxHG6dz9Scg2w     2021-01-01  \n",
              "2                178  UCZUPZW5idAxYp-Asj__lVAA     2021-01-01  \n",
              "3               3470  UCT3CumbFIJiW33uq0UI3zlg     2021-01-01  \n",
              "4               3142  UCdWgRSfttvDucq4ApcCg5Mw     2021-01-01  \n",
              "...              ...                       ...            ...  \n",
              "60023            158  UCsiuN8Jco3LbbuTyGuqRgKg     2021-10-18  \n",
              "60028            221  UCRnEWJKVc5FpC-9Z3CBt2ZQ     2021-10-18  \n",
              "60035            338  UCkMN06eC97XL1qR1bExdwWg     2021-10-18  \n",
              "60036           7549  UCp9G3sWsE42Qo9jgnB1ta2Q     2021-10-18  \n",
              "60068              0  UCRCK5FCJtomQT3b88jXI_DA     2021-10-18  \n",
              "\n",
              "[1843 rows x 9 columns]"
            ],
            "text/html": [
              "\n",
              "  <div id=\"df-4d00161d-abb1-4c3e-9739-2de287fe4b68\">\n",
              "    <div class=\"colab-df-container\">\n",
              "      <div>\n",
              "<style scoped>\n",
              "    .dataframe tbody tr th:only-of-type {\n",
              "        vertical-align: middle;\n",
              "    }\n",
              "\n",
              "    .dataframe tbody tr th {\n",
              "        vertical-align: top;\n",
              "    }\n",
              "\n",
              "    .dataframe thead th {\n",
              "        text-align: right;\n",
              "    }\n",
              "</style>\n",
              "<table border=\"1\" class=\"dataframe\">\n",
              "  <thead>\n",
              "    <tr style=\"text-align: right;\">\n",
              "      <th></th>\n",
              "      <th>title</th>\n",
              "      <th>channelTitle</th>\n",
              "      <th>categoryId</th>\n",
              "      <th>view_count</th>\n",
              "      <th>likes</th>\n",
              "      <th>dislikes</th>\n",
              "      <th>comment_count</th>\n",
              "      <th>channelId</th>\n",
              "      <th>trending_date2</th>\n",
              "    </tr>\n",
              "  </thead>\n",
              "  <tbody>\n",
              "    <tr>\n",
              "      <th>0</th>\n",
              "      <td>[신병] 물자창고</td>\n",
              "      <td>장삐쭈</td>\n",
              "      <td>23</td>\n",
              "      <td>1893473</td>\n",
              "      <td>38249</td>\n",
              "      <td>730</td>\n",
              "      <td>8595</td>\n",
              "      <td>UChbE5OZQ6dRHECsX0tEPEZQ</td>\n",
              "      <td>2021-01-01</td>\n",
              "    </tr>\n",
              "    <tr>\n",
              "      <th>1</th>\n",
              "      <td>RAIN(비) - 나로 바꾸자 Switch to me (duet with JYP) MV</td>\n",
              "      <td>RAIN's Official Channel</td>\n",
              "      <td>10</td>\n",
              "      <td>2600864</td>\n",
              "      <td>0</td>\n",
              "      <td>0</td>\n",
              "      <td>20129</td>\n",
              "      <td>UCxXgIeE5hxWxHG6dz9Scg2w</td>\n",
              "      <td>2021-01-01</td>\n",
              "    </tr>\n",
              "    <tr>\n",
              "      <th>2</th>\n",
              "      <td>2020년 제야의 종 온라인 타종행사 | 보신각 현장 행사는 진행하지 않습니다.</td>\n",
              "      <td>서울시 · Seoul</td>\n",
              "      <td>29</td>\n",
              "      <td>347049</td>\n",
              "      <td>3564</td>\n",
              "      <td>120</td>\n",
              "      <td>178</td>\n",
              "      <td>UCZUPZW5idAxYp-Asj__lVAA</td>\n",
              "      <td>2021-01-01</td>\n",
              "    </tr>\n",
              "    <tr>\n",
              "      <th>3</th>\n",
              "      <td>고기남자의 칠면조 파티</td>\n",
              "      <td>고기남자 MeatMan</td>\n",
              "      <td>26</td>\n",
              "      <td>528458</td>\n",
              "      <td>15372</td>\n",
              "      <td>280</td>\n",
              "      <td>3470</td>\n",
              "      <td>UCT3CumbFIJiW33uq0UI3zlg</td>\n",
              "      <td>2021-01-01</td>\n",
              "    </tr>\n",
              "    <tr>\n",
              "      <th>4</th>\n",
              "      <td>골목 3mc를 분노하게 만든 마음고생이 심했을 공릉 백반집 사장님의 푸념?! [예능...</td>\n",
              "      <td>스브스밥집</td>\n",
              "      <td>24</td>\n",
              "      <td>494904</td>\n",
              "      <td>3918</td>\n",
              "      <td>111</td>\n",
              "      <td>3142</td>\n",
              "      <td>UCdWgRSfttvDucq4ApcCg5Mw</td>\n",
              "      <td>2021-01-01</td>\n",
              "    </tr>\n",
              "    <tr>\n",
              "      <th>...</th>\n",
              "      <td>...</td>\n",
              "      <td>...</td>\n",
              "      <td>...</td>\n",
              "      <td>...</td>\n",
              "      <td>...</td>\n",
              "      <td>...</td>\n",
              "      <td>...</td>\n",
              "      <td>...</td>\n",
              "      <td>...</td>\n",
              "    </tr>\n",
              "    <tr>\n",
              "      <th>60023</th>\n",
              "      <td>태권도 4단의 발차기실력ㅋㅋㅋ(ft.멸치터트리기,못함주의)#shorts</td>\n",
              "      <td>멸치형</td>\n",
              "      <td>23</td>\n",
              "      <td>726697</td>\n",
              "      <td>10714</td>\n",
              "      <td>989</td>\n",
              "      <td>158</td>\n",
              "      <td>UCsiuN8Jco3LbbuTyGuqRgKg</td>\n",
              "      <td>2021-10-18</td>\n",
              "    </tr>\n",
              "    <tr>\n",
              "      <th>60028</th>\n",
              "      <td>끼니 거른 엄마가 국밥을 만나면 생기는 일 🎁이벤트 있음! #Shorts #행보카당</td>\n",
              "      <td>키키TV, 전지적 예능 시점</td>\n",
              "      <td>24</td>\n",
              "      <td>470316</td>\n",
              "      <td>12940</td>\n",
              "      <td>507</td>\n",
              "      <td>221</td>\n",
              "      <td>UCRnEWJKVc5FpC-9Z3CBt2ZQ</td>\n",
              "      <td>2021-10-18</td>\n",
              "    </tr>\n",
              "    <tr>\n",
              "      <th>60035</th>\n",
              "      <td>이사하는 날! 집꾸미기🎀/인싸 인테리어🌿/ 셀프 베란다 타일 /호텔식 수건접기🏠</td>\n",
              "      <td>기용이tv</td>\n",
              "      <td>22</td>\n",
              "      <td>155857</td>\n",
              "      <td>3421</td>\n",
              "      <td>34</td>\n",
              "      <td>338</td>\n",
              "      <td>UCkMN06eC97XL1qR1bExdwWg</td>\n",
              "      <td>2021-10-18</td>\n",
              "    </tr>\n",
              "    <tr>\n",
              "      <th>60036</th>\n",
              "      <td>(With Sub) 인싸'S BAR 오픈🍹🍸 : 서울에서 꼭 가봐야 할 장소✨</td>\n",
              "      <td>INSSAOPPA G [인싸오빠]</td>\n",
              "      <td>24</td>\n",
              "      <td>69373</td>\n",
              "      <td>9258</td>\n",
              "      <td>17</td>\n",
              "      <td>7549</td>\n",
              "      <td>UCp9G3sWsE42Qo9jgnB1ta2Q</td>\n",
              "      <td>2021-10-18</td>\n",
              "    </tr>\n",
              "    <tr>\n",
              "      <th>60068</th>\n",
              "      <td>모여봐요 동물의 숲 Direct 2021.10.15</td>\n",
              "      <td>한국닌텐도 공식 채널</td>\n",
              "      <td>20</td>\n",
              "      <td>219994</td>\n",
              "      <td>0</td>\n",
              "      <td>0</td>\n",
              "      <td>0</td>\n",
              "      <td>UCRCK5FCJtomQT3b88jXI_DA</td>\n",
              "      <td>2021-10-18</td>\n",
              "    </tr>\n",
              "  </tbody>\n",
              "</table>\n",
              "<p>1843 rows × 9 columns</p>\n",
              "</div>\n",
              "      <button class=\"colab-df-convert\" onclick=\"convertToInteractive('df-4d00161d-abb1-4c3e-9739-2de287fe4b68')\"\n",
              "              title=\"Convert this dataframe to an interactive table.\"\n",
              "              style=\"display:none;\">\n",
              "        \n",
              "  <svg xmlns=\"http://www.w3.org/2000/svg\" height=\"24px\"viewBox=\"0 0 24 24\"\n",
              "       width=\"24px\">\n",
              "    <path d=\"M0 0h24v24H0V0z\" fill=\"none\"/>\n",
              "    <path d=\"M18.56 5.44l.94 2.06.94-2.06 2.06-.94-2.06-.94-.94-2.06-.94 2.06-2.06.94zm-11 1L8.5 8.5l.94-2.06 2.06-.94-2.06-.94L8.5 2.5l-.94 2.06-2.06.94zm10 10l.94 2.06.94-2.06 2.06-.94-2.06-.94-.94-2.06-.94 2.06-2.06.94z\"/><path d=\"M17.41 7.96l-1.37-1.37c-.4-.4-.92-.59-1.43-.59-.52 0-1.04.2-1.43.59L10.3 9.45l-7.72 7.72c-.78.78-.78 2.05 0 2.83L4 21.41c.39.39.9.59 1.41.59.51 0 1.02-.2 1.41-.59l7.78-7.78 2.81-2.81c.8-.78.8-2.07 0-2.86zM5.41 20L4 18.59l7.72-7.72 1.47 1.35L5.41 20z\"/>\n",
              "  </svg>\n",
              "      </button>\n",
              "      \n",
              "  <style>\n",
              "    .colab-df-container {\n",
              "      display:flex;\n",
              "      flex-wrap:wrap;\n",
              "      gap: 12px;\n",
              "    }\n",
              "\n",
              "    .colab-df-convert {\n",
              "      background-color: #E8F0FE;\n",
              "      border: none;\n",
              "      border-radius: 50%;\n",
              "      cursor: pointer;\n",
              "      display: none;\n",
              "      fill: #1967D2;\n",
              "      height: 32px;\n",
              "      padding: 0 0 0 0;\n",
              "      width: 32px;\n",
              "    }\n",
              "\n",
              "    .colab-df-convert:hover {\n",
              "      background-color: #E2EBFA;\n",
              "      box-shadow: 0px 1px 2px rgba(60, 64, 67, 0.3), 0px 1px 3px 1px rgba(60, 64, 67, 0.15);\n",
              "      fill: #174EA6;\n",
              "    }\n",
              "\n",
              "    [theme=dark] .colab-df-convert {\n",
              "      background-color: #3B4455;\n",
              "      fill: #D2E3FC;\n",
              "    }\n",
              "\n",
              "    [theme=dark] .colab-df-convert:hover {\n",
              "      background-color: #434B5C;\n",
              "      box-shadow: 0px 1px 3px 1px rgba(0, 0, 0, 0.15);\n",
              "      filter: drop-shadow(0px 1px 2px rgba(0, 0, 0, 0.3));\n",
              "      fill: #FFFFFF;\n",
              "    }\n",
              "  </style>\n",
              "\n",
              "      <script>\n",
              "        const buttonEl =\n",
              "          document.querySelector('#df-4d00161d-abb1-4c3e-9739-2de287fe4b68 button.colab-df-convert');\n",
              "        buttonEl.style.display =\n",
              "          google.colab.kernel.accessAllowed ? 'block' : 'none';\n",
              "\n",
              "        async function convertToInteractive(key) {\n",
              "          const element = document.querySelector('#df-4d00161d-abb1-4c3e-9739-2de287fe4b68');\n",
              "          const dataTable =\n",
              "            await google.colab.kernel.invokeFunction('convertToInteractive',\n",
              "                                                     [key], {});\n",
              "          if (!dataTable) return;\n",
              "\n",
              "          const docLinkHtml = 'Like what you see? Visit the ' +\n",
              "            '<a target=\"_blank\" href=https://colab.research.google.com/notebooks/data_table.ipynb>data table notebook</a>'\n",
              "            + ' to learn more about interactive tables.';\n",
              "          element.innerHTML = '';\n",
              "          dataTable['output_type'] = 'display_data';\n",
              "          await google.colab.output.renderOutput(dataTable, element);\n",
              "          const docLink = document.createElement('div');\n",
              "          docLink.innerHTML = docLinkHtml;\n",
              "          element.appendChild(docLink);\n",
              "        }\n",
              "      </script>\n",
              "    </div>\n",
              "  </div>\n",
              "  "
            ]
          },
          "metadata": {},
          "execution_count": 186
        }
      ]
    },
    {
      "cell_type": "code",
      "source": [
        "# channelId는 같지만 channelTitle이 달라진 경우\n",
        "# > 한 Id가 여러 Title을 갖고 있는 경우를 말하므로 channelId를 기준으로 groupby count나 value_counts를 활용한다."
      ],
      "metadata": {
        "id": "w5VjHBBgxe7J"
      },
      "execution_count": 163,
      "outputs": []
    },
    {
      "cell_type": "code",
      "source": [
        "# 2. value_counts를 활용하여 channelId별로 카운트 후 데이터프레임으로 바꿔주기 (시리즈 슬라이싱 법을 잘 모르겠다...)"
      ],
      "metadata": {
        "id": "OFLUJEOCx5QR"
      },
      "execution_count": null,
      "outputs": []
    },
    {
      "cell_type": "code",
      "source": [
        "new = pd.DataFrame(df_drop.value_counts('channelId'))\n",
        "new"
      ],
      "metadata": {
        "colab": {
          "base_uri": "https://localhost:8080/",
          "height": 455
        },
        "id": "LmdhQhQpz8Sg",
        "outputId": "df705dd9-8e6f-448d-c76a-5225ed7c4c8d"
      },
      "execution_count": 205,
      "outputs": [
        {
          "output_type": "execute_result",
          "data": {
            "text/plain": [
              "                          0\n",
              "channelId                  \n",
              "UC98TOxKQk4aLcx0EjIK0LkQ  3\n",
              "UCtQYhzJWFai1y30UIA3uwYQ  3\n",
              "UCDih-87kuRMA8uFcrx10Wlw  2\n",
              "UCepUWUpH45hRTi-QePdq1Bg  2\n",
              "UC9w-h_ciMmX64TcLRcb1xPg  2\n",
              "...                      ..\n",
              "UCKUz_7LxgiMXa0lrwzzsKTQ  1\n",
              "UCKRzvNMudg0lZQ41lafuahg  1\n",
              "UCKNZsAeQXpvI-Mpoc0ZKhsA  1\n",
              "UCKFvoxDM0NoLChK9hCe7VfQ  1\n",
              "UCzz58-H0wzmGoFi3MO_9ePQ  1\n",
              "\n",
              "[1770 rows x 1 columns]"
            ],
            "text/html": [
              "\n",
              "  <div id=\"df-4d97ec70-4726-424c-8a88-ec9c0ec35f45\">\n",
              "    <div class=\"colab-df-container\">\n",
              "      <div>\n",
              "<style scoped>\n",
              "    .dataframe tbody tr th:only-of-type {\n",
              "        vertical-align: middle;\n",
              "    }\n",
              "\n",
              "    .dataframe tbody tr th {\n",
              "        vertical-align: top;\n",
              "    }\n",
              "\n",
              "    .dataframe thead th {\n",
              "        text-align: right;\n",
              "    }\n",
              "</style>\n",
              "<table border=\"1\" class=\"dataframe\">\n",
              "  <thead>\n",
              "    <tr style=\"text-align: right;\">\n",
              "      <th></th>\n",
              "      <th>0</th>\n",
              "    </tr>\n",
              "    <tr>\n",
              "      <th>channelId</th>\n",
              "      <th></th>\n",
              "    </tr>\n",
              "  </thead>\n",
              "  <tbody>\n",
              "    <tr>\n",
              "      <th>UC98TOxKQk4aLcx0EjIK0LkQ</th>\n",
              "      <td>3</td>\n",
              "    </tr>\n",
              "    <tr>\n",
              "      <th>UCtQYhzJWFai1y30UIA3uwYQ</th>\n",
              "      <td>3</td>\n",
              "    </tr>\n",
              "    <tr>\n",
              "      <th>UCDih-87kuRMA8uFcrx10Wlw</th>\n",
              "      <td>2</td>\n",
              "    </tr>\n",
              "    <tr>\n",
              "      <th>UCepUWUpH45hRTi-QePdq1Bg</th>\n",
              "      <td>2</td>\n",
              "    </tr>\n",
              "    <tr>\n",
              "      <th>UC9w-h_ciMmX64TcLRcb1xPg</th>\n",
              "      <td>2</td>\n",
              "    </tr>\n",
              "    <tr>\n",
              "      <th>...</th>\n",
              "      <td>...</td>\n",
              "    </tr>\n",
              "    <tr>\n",
              "      <th>UCKUz_7LxgiMXa0lrwzzsKTQ</th>\n",
              "      <td>1</td>\n",
              "    </tr>\n",
              "    <tr>\n",
              "      <th>UCKRzvNMudg0lZQ41lafuahg</th>\n",
              "      <td>1</td>\n",
              "    </tr>\n",
              "    <tr>\n",
              "      <th>UCKNZsAeQXpvI-Mpoc0ZKhsA</th>\n",
              "      <td>1</td>\n",
              "    </tr>\n",
              "    <tr>\n",
              "      <th>UCKFvoxDM0NoLChK9hCe7VfQ</th>\n",
              "      <td>1</td>\n",
              "    </tr>\n",
              "    <tr>\n",
              "      <th>UCzz58-H0wzmGoFi3MO_9ePQ</th>\n",
              "      <td>1</td>\n",
              "    </tr>\n",
              "  </tbody>\n",
              "</table>\n",
              "<p>1770 rows × 1 columns</p>\n",
              "</div>\n",
              "      <button class=\"colab-df-convert\" onclick=\"convertToInteractive('df-4d97ec70-4726-424c-8a88-ec9c0ec35f45')\"\n",
              "              title=\"Convert this dataframe to an interactive table.\"\n",
              "              style=\"display:none;\">\n",
              "        \n",
              "  <svg xmlns=\"http://www.w3.org/2000/svg\" height=\"24px\"viewBox=\"0 0 24 24\"\n",
              "       width=\"24px\">\n",
              "    <path d=\"M0 0h24v24H0V0z\" fill=\"none\"/>\n",
              "    <path d=\"M18.56 5.44l.94 2.06.94-2.06 2.06-.94-2.06-.94-.94-2.06-.94 2.06-2.06.94zm-11 1L8.5 8.5l.94-2.06 2.06-.94-2.06-.94L8.5 2.5l-.94 2.06-2.06.94zm10 10l.94 2.06.94-2.06 2.06-.94-2.06-.94-.94-2.06-.94 2.06-2.06.94z\"/><path d=\"M17.41 7.96l-1.37-1.37c-.4-.4-.92-.59-1.43-.59-.52 0-1.04.2-1.43.59L10.3 9.45l-7.72 7.72c-.78.78-.78 2.05 0 2.83L4 21.41c.39.39.9.59 1.41.59.51 0 1.02-.2 1.41-.59l7.78-7.78 2.81-2.81c.8-.78.8-2.07 0-2.86zM5.41 20L4 18.59l7.72-7.72 1.47 1.35L5.41 20z\"/>\n",
              "  </svg>\n",
              "      </button>\n",
              "      \n",
              "  <style>\n",
              "    .colab-df-container {\n",
              "      display:flex;\n",
              "      flex-wrap:wrap;\n",
              "      gap: 12px;\n",
              "    }\n",
              "\n",
              "    .colab-df-convert {\n",
              "      background-color: #E8F0FE;\n",
              "      border: none;\n",
              "      border-radius: 50%;\n",
              "      cursor: pointer;\n",
              "      display: none;\n",
              "      fill: #1967D2;\n",
              "      height: 32px;\n",
              "      padding: 0 0 0 0;\n",
              "      width: 32px;\n",
              "    }\n",
              "\n",
              "    .colab-df-convert:hover {\n",
              "      background-color: #E2EBFA;\n",
              "      box-shadow: 0px 1px 2px rgba(60, 64, 67, 0.3), 0px 1px 3px 1px rgba(60, 64, 67, 0.15);\n",
              "      fill: #174EA6;\n",
              "    }\n",
              "\n",
              "    [theme=dark] .colab-df-convert {\n",
              "      background-color: #3B4455;\n",
              "      fill: #D2E3FC;\n",
              "    }\n",
              "\n",
              "    [theme=dark] .colab-df-convert:hover {\n",
              "      background-color: #434B5C;\n",
              "      box-shadow: 0px 1px 3px 1px rgba(0, 0, 0, 0.15);\n",
              "      filter: drop-shadow(0px 1px 2px rgba(0, 0, 0, 0.3));\n",
              "      fill: #FFFFFF;\n",
              "    }\n",
              "  </style>\n",
              "\n",
              "      <script>\n",
              "        const buttonEl =\n",
              "          document.querySelector('#df-4d97ec70-4726-424c-8a88-ec9c0ec35f45 button.colab-df-convert');\n",
              "        buttonEl.style.display =\n",
              "          google.colab.kernel.accessAllowed ? 'block' : 'none';\n",
              "\n",
              "        async function convertToInteractive(key) {\n",
              "          const element = document.querySelector('#df-4d97ec70-4726-424c-8a88-ec9c0ec35f45');\n",
              "          const dataTable =\n",
              "            await google.colab.kernel.invokeFunction('convertToInteractive',\n",
              "                                                     [key], {});\n",
              "          if (!dataTable) return;\n",
              "\n",
              "          const docLinkHtml = 'Like what you see? Visit the ' +\n",
              "            '<a target=\"_blank\" href=https://colab.research.google.com/notebooks/data_table.ipynb>data table notebook</a>'\n",
              "            + ' to learn more about interactive tables.';\n",
              "          element.innerHTML = '';\n",
              "          dataTable['output_type'] = 'display_data';\n",
              "          await google.colab.output.renderOutput(dataTable, element);\n",
              "          const docLink = document.createElement('div');\n",
              "          docLink.innerHTML = docLinkHtml;\n",
              "          element.appendChild(docLink);\n",
              "        }\n",
              "      </script>\n",
              "    </div>\n",
              "  </div>\n",
              "  "
            ]
          },
          "metadata": {},
          "execution_count": 205
        }
      ]
    },
    {
      "cell_type": "code",
      "source": [
        "# 3. new 데이터프레임에서 0 컬럼의 값이 1보다 큰 것들을 슬아이싱하고 길이를 구한다."
      ],
      "metadata": {
        "id": "RLvr9UPv2mct"
      },
      "execution_count": 206,
      "outputs": []
    },
    {
      "cell_type": "code",
      "source": [
        "my_answer = len(new[new[0] > 1])\n",
        "print(my_answer)"
      ],
      "metadata": {
        "colab": {
          "base_uri": "https://localhost:8080/"
        },
        "id": "NKFnj2RVy7tS",
        "outputId": "cded5fe4-ccf7-4735-c433-20c3384d8f24"
      },
      "execution_count": 208,
      "outputs": [
        {
          "output_type": "stream",
          "name": "stdout",
          "text": [
            "71\n"
          ]
        }
      ]
    },
    {
      "cell_type": "code",
      "source": [
        "# 번외 - True는 1로 계산되기 때문에 bool 시리즈에서 sum을 하면 바로 길이가 나온다...!!!"
      ],
      "metadata": {
        "id": "wtcMd2n26VLW"
      },
      "execution_count": 241,
      "outputs": []
    },
    {
      "cell_type": "code",
      "source": [
        "(df_drop.value_counts('channelId') > 1).sum()"
      ],
      "metadata": {
        "colab": {
          "base_uri": "https://localhost:8080/"
        },
        "id": "lOCErzII6XmX",
        "outputId": "084d4a86-e6b8-42f3-a0fb-5e6202bb0993"
      },
      "execution_count": 242,
      "outputs": [
        {
          "output_type": "execute_result",
          "data": {
            "text/plain": [
              "71"
            ]
          },
          "metadata": {},
          "execution_count": 242
        }
      ]
    },
    {
      "cell_type": "code",
      "source": [
        "change = df[['channelTitle','channelId']].drop_duplicates().channelId.value_counts()\n",
        "target = change[change>1]\n",
        "print(len(target))"
      ],
      "metadata": {
        "colab": {
          "base_uri": "https://localhost:8080/"
        },
        "id": "kiJ7UP0urgu2",
        "outputId": "f0c44158-b3c4-49b7-f9c1-12e6ba43e8f9"
      },
      "execution_count": 14,
      "outputs": [
        {
          "output_type": "stream",
          "name": "stdout",
          "text": [
            "71\n"
          ]
        }
      ]
    },
    {
      "cell_type": "code",
      "source": [
        "# Q. 일요일에 인기있었던 영상들중 가장많은 영상 종류(categoryId)는 무엇인가? > 복습 필요"
      ],
      "metadata": {
        "id": "o7x34z72uqpy"
      },
      "execution_count": 16,
      "outputs": []
    },
    {
      "cell_type": "code",
      "source": [
        "df['trending_date2'] = pd.to_datetime(df['trending_date2'])\n",
        "my_answer = df.loc[df['trending_date2'].dt.day_name() == 'Sunday', :].value_counts('categoryId').head(1).index[0]\n",
        "print(my_answer)"
      ],
      "metadata": {
        "colab": {
          "base_uri": "https://localhost:8080/"
        },
        "id": "_pjFh5rQvZcu",
        "outputId": "2c0eab88-7343-4adf-f0eb-ed6bb3076e90"
      },
      "execution_count": 17,
      "outputs": [
        {
          "output_type": "stream",
          "name": "stdout",
          "text": [
            "24\n"
          ]
        }
      ]
    },
    {
      "cell_type": "code",
      "source": [
        "df['trending_date2'] = pd.to_datetime(df['trending_date2'])\n",
        "answer =df.loc[df['trending_date2'].dt.day_name() =='Sunday'].categoryId.value_counts().index[0]\n",
        "print(answer)"
      ],
      "metadata": {
        "colab": {
          "base_uri": "https://localhost:8080/"
        },
        "id": "zvnjsDLcwLTL",
        "outputId": "9b31f502-3dd2-4f9b-b0c3-bf06f2598190"
      },
      "execution_count": 18,
      "outputs": [
        {
          "output_type": "stream",
          "name": "stdout",
          "text": [
            "24\n"
          ]
        }
      ]
    },
    {
      "cell_type": "code",
      "source": [
        "df['trending_date2'] = pd.to_datetime(df['trending_date2'])\n",
        "df.groupby([df['trending_date2'].dt.day_name(),'categoryId'],as_index=False).size().pivot(index='categoryId',columns='trending_date2')"
      ],
      "metadata": {
        "colab": {
          "base_uri": "https://localhost:8080/",
          "height": 582
        },
        "id": "A33XwYQOwLn2",
        "outputId": "d8f4f293-4035-4ba9-d52c-cdab9d867a85"
      },
      "execution_count": 19,
      "outputs": [
        {
          "output_type": "execute_result",
          "data": {
            "text/plain": [
              "                 size                                                  \n",
              "trending_date2 Friday Monday Saturday Sunday Thursday Tuesday Wednesday\n",
              "categoryId                                                             \n",
              "1                 243    263      255    274      246     257       234\n",
              "2                 120    105      119     99      128     119       129\n",
              "10                833    837      776    830      890     894       917\n",
              "15                187    215      198    217      207     208       207\n",
              "17                633    668      592    636      682     708       706\n",
              "19                 90     92       87     91       92      89        85\n",
              "20                283    298      296    289      282     285       291\n",
              "22               1288   1373     1289   1337     1341    1375      1333\n",
              "23                568    594      570    556      560     569       566\n",
              "24               2976   3148     3066   3096     2954    3084      3090\n",
              "25                444    453      422    437      470     452       468\n",
              "26                369    378      364    363      375     394       385\n",
              "27                183    205      183    199      194     194       212\n",
              "28                171    160      173    167      166     161       165\n",
              "29                 12     10       10      9       13      11        12"
            ],
            "text/html": [
              "\n",
              "  <div id=\"df-c0d59838-1e93-4d59-b73f-367177d3b84f\">\n",
              "    <div class=\"colab-df-container\">\n",
              "      <div>\n",
              "<style scoped>\n",
              "    .dataframe tbody tr th:only-of-type {\n",
              "        vertical-align: middle;\n",
              "    }\n",
              "\n",
              "    .dataframe tbody tr th {\n",
              "        vertical-align: top;\n",
              "    }\n",
              "\n",
              "    .dataframe thead tr th {\n",
              "        text-align: left;\n",
              "    }\n",
              "\n",
              "    .dataframe thead tr:last-of-type th {\n",
              "        text-align: right;\n",
              "    }\n",
              "</style>\n",
              "<table border=\"1\" class=\"dataframe\">\n",
              "  <thead>\n",
              "    <tr>\n",
              "      <th></th>\n",
              "      <th colspan=\"7\" halign=\"left\">size</th>\n",
              "    </tr>\n",
              "    <tr>\n",
              "      <th>trending_date2</th>\n",
              "      <th>Friday</th>\n",
              "      <th>Monday</th>\n",
              "      <th>Saturday</th>\n",
              "      <th>Sunday</th>\n",
              "      <th>Thursday</th>\n",
              "      <th>Tuesday</th>\n",
              "      <th>Wednesday</th>\n",
              "    </tr>\n",
              "    <tr>\n",
              "      <th>categoryId</th>\n",
              "      <th></th>\n",
              "      <th></th>\n",
              "      <th></th>\n",
              "      <th></th>\n",
              "      <th></th>\n",
              "      <th></th>\n",
              "      <th></th>\n",
              "    </tr>\n",
              "  </thead>\n",
              "  <tbody>\n",
              "    <tr>\n",
              "      <th>1</th>\n",
              "      <td>243</td>\n",
              "      <td>263</td>\n",
              "      <td>255</td>\n",
              "      <td>274</td>\n",
              "      <td>246</td>\n",
              "      <td>257</td>\n",
              "      <td>234</td>\n",
              "    </tr>\n",
              "    <tr>\n",
              "      <th>2</th>\n",
              "      <td>120</td>\n",
              "      <td>105</td>\n",
              "      <td>119</td>\n",
              "      <td>99</td>\n",
              "      <td>128</td>\n",
              "      <td>119</td>\n",
              "      <td>129</td>\n",
              "    </tr>\n",
              "    <tr>\n",
              "      <th>10</th>\n",
              "      <td>833</td>\n",
              "      <td>837</td>\n",
              "      <td>776</td>\n",
              "      <td>830</td>\n",
              "      <td>890</td>\n",
              "      <td>894</td>\n",
              "      <td>917</td>\n",
              "    </tr>\n",
              "    <tr>\n",
              "      <th>15</th>\n",
              "      <td>187</td>\n",
              "      <td>215</td>\n",
              "      <td>198</td>\n",
              "      <td>217</td>\n",
              "      <td>207</td>\n",
              "      <td>208</td>\n",
              "      <td>207</td>\n",
              "    </tr>\n",
              "    <tr>\n",
              "      <th>17</th>\n",
              "      <td>633</td>\n",
              "      <td>668</td>\n",
              "      <td>592</td>\n",
              "      <td>636</td>\n",
              "      <td>682</td>\n",
              "      <td>708</td>\n",
              "      <td>706</td>\n",
              "    </tr>\n",
              "    <tr>\n",
              "      <th>19</th>\n",
              "      <td>90</td>\n",
              "      <td>92</td>\n",
              "      <td>87</td>\n",
              "      <td>91</td>\n",
              "      <td>92</td>\n",
              "      <td>89</td>\n",
              "      <td>85</td>\n",
              "    </tr>\n",
              "    <tr>\n",
              "      <th>20</th>\n",
              "      <td>283</td>\n",
              "      <td>298</td>\n",
              "      <td>296</td>\n",
              "      <td>289</td>\n",
              "      <td>282</td>\n",
              "      <td>285</td>\n",
              "      <td>291</td>\n",
              "    </tr>\n",
              "    <tr>\n",
              "      <th>22</th>\n",
              "      <td>1288</td>\n",
              "      <td>1373</td>\n",
              "      <td>1289</td>\n",
              "      <td>1337</td>\n",
              "      <td>1341</td>\n",
              "      <td>1375</td>\n",
              "      <td>1333</td>\n",
              "    </tr>\n",
              "    <tr>\n",
              "      <th>23</th>\n",
              "      <td>568</td>\n",
              "      <td>594</td>\n",
              "      <td>570</td>\n",
              "      <td>556</td>\n",
              "      <td>560</td>\n",
              "      <td>569</td>\n",
              "      <td>566</td>\n",
              "    </tr>\n",
              "    <tr>\n",
              "      <th>24</th>\n",
              "      <td>2976</td>\n",
              "      <td>3148</td>\n",
              "      <td>3066</td>\n",
              "      <td>3096</td>\n",
              "      <td>2954</td>\n",
              "      <td>3084</td>\n",
              "      <td>3090</td>\n",
              "    </tr>\n",
              "    <tr>\n",
              "      <th>25</th>\n",
              "      <td>444</td>\n",
              "      <td>453</td>\n",
              "      <td>422</td>\n",
              "      <td>437</td>\n",
              "      <td>470</td>\n",
              "      <td>452</td>\n",
              "      <td>468</td>\n",
              "    </tr>\n",
              "    <tr>\n",
              "      <th>26</th>\n",
              "      <td>369</td>\n",
              "      <td>378</td>\n",
              "      <td>364</td>\n",
              "      <td>363</td>\n",
              "      <td>375</td>\n",
              "      <td>394</td>\n",
              "      <td>385</td>\n",
              "    </tr>\n",
              "    <tr>\n",
              "      <th>27</th>\n",
              "      <td>183</td>\n",
              "      <td>205</td>\n",
              "      <td>183</td>\n",
              "      <td>199</td>\n",
              "      <td>194</td>\n",
              "      <td>194</td>\n",
              "      <td>212</td>\n",
              "    </tr>\n",
              "    <tr>\n",
              "      <th>28</th>\n",
              "      <td>171</td>\n",
              "      <td>160</td>\n",
              "      <td>173</td>\n",
              "      <td>167</td>\n",
              "      <td>166</td>\n",
              "      <td>161</td>\n",
              "      <td>165</td>\n",
              "    </tr>\n",
              "    <tr>\n",
              "      <th>29</th>\n",
              "      <td>12</td>\n",
              "      <td>10</td>\n",
              "      <td>10</td>\n",
              "      <td>9</td>\n",
              "      <td>13</td>\n",
              "      <td>11</td>\n",
              "      <td>12</td>\n",
              "    </tr>\n",
              "  </tbody>\n",
              "</table>\n",
              "</div>\n",
              "      <button class=\"colab-df-convert\" onclick=\"convertToInteractive('df-c0d59838-1e93-4d59-b73f-367177d3b84f')\"\n",
              "              title=\"Convert this dataframe to an interactive table.\"\n",
              "              style=\"display:none;\">\n",
              "        \n",
              "  <svg xmlns=\"http://www.w3.org/2000/svg\" height=\"24px\"viewBox=\"0 0 24 24\"\n",
              "       width=\"24px\">\n",
              "    <path d=\"M0 0h24v24H0V0z\" fill=\"none\"/>\n",
              "    <path d=\"M18.56 5.44l.94 2.06.94-2.06 2.06-.94-2.06-.94-.94-2.06-.94 2.06-2.06.94zm-11 1L8.5 8.5l.94-2.06 2.06-.94-2.06-.94L8.5 2.5l-.94 2.06-2.06.94zm10 10l.94 2.06.94-2.06 2.06-.94-2.06-.94-.94-2.06-.94 2.06-2.06.94z\"/><path d=\"M17.41 7.96l-1.37-1.37c-.4-.4-.92-.59-1.43-.59-.52 0-1.04.2-1.43.59L10.3 9.45l-7.72 7.72c-.78.78-.78 2.05 0 2.83L4 21.41c.39.39.9.59 1.41.59.51 0 1.02-.2 1.41-.59l7.78-7.78 2.81-2.81c.8-.78.8-2.07 0-2.86zM5.41 20L4 18.59l7.72-7.72 1.47 1.35L5.41 20z\"/>\n",
              "  </svg>\n",
              "      </button>\n",
              "      \n",
              "  <style>\n",
              "    .colab-df-container {\n",
              "      display:flex;\n",
              "      flex-wrap:wrap;\n",
              "      gap: 12px;\n",
              "    }\n",
              "\n",
              "    .colab-df-convert {\n",
              "      background-color: #E8F0FE;\n",
              "      border: none;\n",
              "      border-radius: 50%;\n",
              "      cursor: pointer;\n",
              "      display: none;\n",
              "      fill: #1967D2;\n",
              "      height: 32px;\n",
              "      padding: 0 0 0 0;\n",
              "      width: 32px;\n",
              "    }\n",
              "\n",
              "    .colab-df-convert:hover {\n",
              "      background-color: #E2EBFA;\n",
              "      box-shadow: 0px 1px 2px rgba(60, 64, 67, 0.3), 0px 1px 3px 1px rgba(60, 64, 67, 0.15);\n",
              "      fill: #174EA6;\n",
              "    }\n",
              "\n",
              "    [theme=dark] .colab-df-convert {\n",
              "      background-color: #3B4455;\n",
              "      fill: #D2E3FC;\n",
              "    }\n",
              "\n",
              "    [theme=dark] .colab-df-convert:hover {\n",
              "      background-color: #434B5C;\n",
              "      box-shadow: 0px 1px 3px 1px rgba(0, 0, 0, 0.15);\n",
              "      filter: drop-shadow(0px 1px 2px rgba(0, 0, 0, 0.3));\n",
              "      fill: #FFFFFF;\n",
              "    }\n",
              "  </style>\n",
              "\n",
              "      <script>\n",
              "        const buttonEl =\n",
              "          document.querySelector('#df-c0d59838-1e93-4d59-b73f-367177d3b84f button.colab-df-convert');\n",
              "        buttonEl.style.display =\n",
              "          google.colab.kernel.accessAllowed ? 'block' : 'none';\n",
              "\n",
              "        async function convertToInteractive(key) {\n",
              "          const element = document.querySelector('#df-c0d59838-1e93-4d59-b73f-367177d3b84f');\n",
              "          const dataTable =\n",
              "            await google.colab.kernel.invokeFunction('convertToInteractive',\n",
              "                                                     [key], {});\n",
              "          if (!dataTable) return;\n",
              "\n",
              "          const docLinkHtml = 'Like what you see? Visit the ' +\n",
              "            '<a target=\"_blank\" href=https://colab.research.google.com/notebooks/data_table.ipynb>data table notebook</a>'\n",
              "            + ' to learn more about interactive tables.';\n",
              "          element.innerHTML = '';\n",
              "          dataTable['output_type'] = 'display_data';\n",
              "          await google.colab.output.renderOutput(dataTable, element);\n",
              "          const docLink = document.createElement('div');\n",
              "          docLink.innerHTML = docLinkHtml;\n",
              "          element.appendChild(docLink);\n",
              "        }\n",
              "      </script>\n",
              "    </div>\n",
              "  </div>\n",
              "  "
            ]
          },
          "metadata": {},
          "execution_count": 19
        }
      ]
    },
    {
      "cell_type": "code",
      "source": [
        "group = df.groupby([df['trending_date2'].dt.day_name(),'categoryId'],as_index=False).size()\n",
        "answer= group.pivot(index='categoryId',columns='trending_date2')\n",
        "display(answer)"
      ],
      "metadata": {
        "colab": {
          "base_uri": "https://localhost:8080/",
          "height": 582
        },
        "id": "LhhqiTr_xhSr",
        "outputId": "72921b59-d3cf-4da7-886c-ca41982843f0"
      },
      "execution_count": 20,
      "outputs": [
        {
          "output_type": "display_data",
          "data": {
            "text/plain": [
              "                 size                                                  \n",
              "trending_date2 Friday Monday Saturday Sunday Thursday Tuesday Wednesday\n",
              "categoryId                                                             \n",
              "1                 243    263      255    274      246     257       234\n",
              "2                 120    105      119     99      128     119       129\n",
              "10                833    837      776    830      890     894       917\n",
              "15                187    215      198    217      207     208       207\n",
              "17                633    668      592    636      682     708       706\n",
              "19                 90     92       87     91       92      89        85\n",
              "20                283    298      296    289      282     285       291\n",
              "22               1288   1373     1289   1337     1341    1375      1333\n",
              "23                568    594      570    556      560     569       566\n",
              "24               2976   3148     3066   3096     2954    3084      3090\n",
              "25                444    453      422    437      470     452       468\n",
              "26                369    378      364    363      375     394       385\n",
              "27                183    205      183    199      194     194       212\n",
              "28                171    160      173    167      166     161       165\n",
              "29                 12     10       10      9       13      11        12"
            ],
            "text/html": [
              "\n",
              "  <div id=\"df-b3b2ae3e-2e00-4755-ba1b-d75986dadc99\">\n",
              "    <div class=\"colab-df-container\">\n",
              "      <div>\n",
              "<style scoped>\n",
              "    .dataframe tbody tr th:only-of-type {\n",
              "        vertical-align: middle;\n",
              "    }\n",
              "\n",
              "    .dataframe tbody tr th {\n",
              "        vertical-align: top;\n",
              "    }\n",
              "\n",
              "    .dataframe thead tr th {\n",
              "        text-align: left;\n",
              "    }\n",
              "\n",
              "    .dataframe thead tr:last-of-type th {\n",
              "        text-align: right;\n",
              "    }\n",
              "</style>\n",
              "<table border=\"1\" class=\"dataframe\">\n",
              "  <thead>\n",
              "    <tr>\n",
              "      <th></th>\n",
              "      <th colspan=\"7\" halign=\"left\">size</th>\n",
              "    </tr>\n",
              "    <tr>\n",
              "      <th>trending_date2</th>\n",
              "      <th>Friday</th>\n",
              "      <th>Monday</th>\n",
              "      <th>Saturday</th>\n",
              "      <th>Sunday</th>\n",
              "      <th>Thursday</th>\n",
              "      <th>Tuesday</th>\n",
              "      <th>Wednesday</th>\n",
              "    </tr>\n",
              "    <tr>\n",
              "      <th>categoryId</th>\n",
              "      <th></th>\n",
              "      <th></th>\n",
              "      <th></th>\n",
              "      <th></th>\n",
              "      <th></th>\n",
              "      <th></th>\n",
              "      <th></th>\n",
              "    </tr>\n",
              "  </thead>\n",
              "  <tbody>\n",
              "    <tr>\n",
              "      <th>1</th>\n",
              "      <td>243</td>\n",
              "      <td>263</td>\n",
              "      <td>255</td>\n",
              "      <td>274</td>\n",
              "      <td>246</td>\n",
              "      <td>257</td>\n",
              "      <td>234</td>\n",
              "    </tr>\n",
              "    <tr>\n",
              "      <th>2</th>\n",
              "      <td>120</td>\n",
              "      <td>105</td>\n",
              "      <td>119</td>\n",
              "      <td>99</td>\n",
              "      <td>128</td>\n",
              "      <td>119</td>\n",
              "      <td>129</td>\n",
              "    </tr>\n",
              "    <tr>\n",
              "      <th>10</th>\n",
              "      <td>833</td>\n",
              "      <td>837</td>\n",
              "      <td>776</td>\n",
              "      <td>830</td>\n",
              "      <td>890</td>\n",
              "      <td>894</td>\n",
              "      <td>917</td>\n",
              "    </tr>\n",
              "    <tr>\n",
              "      <th>15</th>\n",
              "      <td>187</td>\n",
              "      <td>215</td>\n",
              "      <td>198</td>\n",
              "      <td>217</td>\n",
              "      <td>207</td>\n",
              "      <td>208</td>\n",
              "      <td>207</td>\n",
              "    </tr>\n",
              "    <tr>\n",
              "      <th>17</th>\n",
              "      <td>633</td>\n",
              "      <td>668</td>\n",
              "      <td>592</td>\n",
              "      <td>636</td>\n",
              "      <td>682</td>\n",
              "      <td>708</td>\n",
              "      <td>706</td>\n",
              "    </tr>\n",
              "    <tr>\n",
              "      <th>19</th>\n",
              "      <td>90</td>\n",
              "      <td>92</td>\n",
              "      <td>87</td>\n",
              "      <td>91</td>\n",
              "      <td>92</td>\n",
              "      <td>89</td>\n",
              "      <td>85</td>\n",
              "    </tr>\n",
              "    <tr>\n",
              "      <th>20</th>\n",
              "      <td>283</td>\n",
              "      <td>298</td>\n",
              "      <td>296</td>\n",
              "      <td>289</td>\n",
              "      <td>282</td>\n",
              "      <td>285</td>\n",
              "      <td>291</td>\n",
              "    </tr>\n",
              "    <tr>\n",
              "      <th>22</th>\n",
              "      <td>1288</td>\n",
              "      <td>1373</td>\n",
              "      <td>1289</td>\n",
              "      <td>1337</td>\n",
              "      <td>1341</td>\n",
              "      <td>1375</td>\n",
              "      <td>1333</td>\n",
              "    </tr>\n",
              "    <tr>\n",
              "      <th>23</th>\n",
              "      <td>568</td>\n",
              "      <td>594</td>\n",
              "      <td>570</td>\n",
              "      <td>556</td>\n",
              "      <td>560</td>\n",
              "      <td>569</td>\n",
              "      <td>566</td>\n",
              "    </tr>\n",
              "    <tr>\n",
              "      <th>24</th>\n",
              "      <td>2976</td>\n",
              "      <td>3148</td>\n",
              "      <td>3066</td>\n",
              "      <td>3096</td>\n",
              "      <td>2954</td>\n",
              "      <td>3084</td>\n",
              "      <td>3090</td>\n",
              "    </tr>\n",
              "    <tr>\n",
              "      <th>25</th>\n",
              "      <td>444</td>\n",
              "      <td>453</td>\n",
              "      <td>422</td>\n",
              "      <td>437</td>\n",
              "      <td>470</td>\n",
              "      <td>452</td>\n",
              "      <td>468</td>\n",
              "    </tr>\n",
              "    <tr>\n",
              "      <th>26</th>\n",
              "      <td>369</td>\n",
              "      <td>378</td>\n",
              "      <td>364</td>\n",
              "      <td>363</td>\n",
              "      <td>375</td>\n",
              "      <td>394</td>\n",
              "      <td>385</td>\n",
              "    </tr>\n",
              "    <tr>\n",
              "      <th>27</th>\n",
              "      <td>183</td>\n",
              "      <td>205</td>\n",
              "      <td>183</td>\n",
              "      <td>199</td>\n",
              "      <td>194</td>\n",
              "      <td>194</td>\n",
              "      <td>212</td>\n",
              "    </tr>\n",
              "    <tr>\n",
              "      <th>28</th>\n",
              "      <td>171</td>\n",
              "      <td>160</td>\n",
              "      <td>173</td>\n",
              "      <td>167</td>\n",
              "      <td>166</td>\n",
              "      <td>161</td>\n",
              "      <td>165</td>\n",
              "    </tr>\n",
              "    <tr>\n",
              "      <th>29</th>\n",
              "      <td>12</td>\n",
              "      <td>10</td>\n",
              "      <td>10</td>\n",
              "      <td>9</td>\n",
              "      <td>13</td>\n",
              "      <td>11</td>\n",
              "      <td>12</td>\n",
              "    </tr>\n",
              "  </tbody>\n",
              "</table>\n",
              "</div>\n",
              "      <button class=\"colab-df-convert\" onclick=\"convertToInteractive('df-b3b2ae3e-2e00-4755-ba1b-d75986dadc99')\"\n",
              "              title=\"Convert this dataframe to an interactive table.\"\n",
              "              style=\"display:none;\">\n",
              "        \n",
              "  <svg xmlns=\"http://www.w3.org/2000/svg\" height=\"24px\"viewBox=\"0 0 24 24\"\n",
              "       width=\"24px\">\n",
              "    <path d=\"M0 0h24v24H0V0z\" fill=\"none\"/>\n",
              "    <path d=\"M18.56 5.44l.94 2.06.94-2.06 2.06-.94-2.06-.94-.94-2.06-.94 2.06-2.06.94zm-11 1L8.5 8.5l.94-2.06 2.06-.94-2.06-.94L8.5 2.5l-.94 2.06-2.06.94zm10 10l.94 2.06.94-2.06 2.06-.94-2.06-.94-.94-2.06-.94 2.06-2.06.94z\"/><path d=\"M17.41 7.96l-1.37-1.37c-.4-.4-.92-.59-1.43-.59-.52 0-1.04.2-1.43.59L10.3 9.45l-7.72 7.72c-.78.78-.78 2.05 0 2.83L4 21.41c.39.39.9.59 1.41.59.51 0 1.02-.2 1.41-.59l7.78-7.78 2.81-2.81c.8-.78.8-2.07 0-2.86zM5.41 20L4 18.59l7.72-7.72 1.47 1.35L5.41 20z\"/>\n",
              "  </svg>\n",
              "      </button>\n",
              "      \n",
              "  <style>\n",
              "    .colab-df-container {\n",
              "      display:flex;\n",
              "      flex-wrap:wrap;\n",
              "      gap: 12px;\n",
              "    }\n",
              "\n",
              "    .colab-df-convert {\n",
              "      background-color: #E8F0FE;\n",
              "      border: none;\n",
              "      border-radius: 50%;\n",
              "      cursor: pointer;\n",
              "      display: none;\n",
              "      fill: #1967D2;\n",
              "      height: 32px;\n",
              "      padding: 0 0 0 0;\n",
              "      width: 32px;\n",
              "    }\n",
              "\n",
              "    .colab-df-convert:hover {\n",
              "      background-color: #E2EBFA;\n",
              "      box-shadow: 0px 1px 2px rgba(60, 64, 67, 0.3), 0px 1px 3px 1px rgba(60, 64, 67, 0.15);\n",
              "      fill: #174EA6;\n",
              "    }\n",
              "\n",
              "    [theme=dark] .colab-df-convert {\n",
              "      background-color: #3B4455;\n",
              "      fill: #D2E3FC;\n",
              "    }\n",
              "\n",
              "    [theme=dark] .colab-df-convert:hover {\n",
              "      background-color: #434B5C;\n",
              "      box-shadow: 0px 1px 3px 1px rgba(0, 0, 0, 0.15);\n",
              "      filter: drop-shadow(0px 1px 2px rgba(0, 0, 0, 0.3));\n",
              "      fill: #FFFFFF;\n",
              "    }\n",
              "  </style>\n",
              "\n",
              "      <script>\n",
              "        const buttonEl =\n",
              "          document.querySelector('#df-b3b2ae3e-2e00-4755-ba1b-d75986dadc99 button.colab-df-convert');\n",
              "        buttonEl.style.display =\n",
              "          google.colab.kernel.accessAllowed ? 'block' : 'none';\n",
              "\n",
              "        async function convertToInteractive(key) {\n",
              "          const element = document.querySelector('#df-b3b2ae3e-2e00-4755-ba1b-d75986dadc99');\n",
              "          const dataTable =\n",
              "            await google.colab.kernel.invokeFunction('convertToInteractive',\n",
              "                                                     [key], {});\n",
              "          if (!dataTable) return;\n",
              "\n",
              "          const docLinkHtml = 'Like what you see? Visit the ' +\n",
              "            '<a target=\"_blank\" href=https://colab.research.google.com/notebooks/data_table.ipynb>data table notebook</a>'\n",
              "            + ' to learn more about interactive tables.';\n",
              "          element.innerHTML = '';\n",
              "          dataTable['output_type'] = 'display_data';\n",
              "          await google.colab.output.renderOutput(dataTable, element);\n",
              "          const docLink = document.createElement('div');\n",
              "          docLink.innerHTML = docLinkHtml;\n",
              "          element.appendChild(docLink);\n",
              "        }\n",
              "      </script>\n",
              "    </div>\n",
              "  </div>\n",
              "  "
            ]
          },
          "metadata": {}
        }
      ]
    },
    {
      "cell_type": "code",
      "source": [
        "# Q. 댓글의 수로 (comment_count) 영상 반응에 대한 판단을 할 수 있다. viewcount대비 댓글수가 가장 높은 영상을 확인하라 (view_count값이 0인 경우는 제외한다)"
      ],
      "metadata": {
        "id": "tRfpe10m1Sul"
      },
      "execution_count": 21,
      "outputs": []
    },
    {
      "cell_type": "code",
      "source": [
        "df.columns"
      ],
      "metadata": {
        "colab": {
          "base_uri": "https://localhost:8080/"
        },
        "id": "ECwWWnLD1d5x",
        "outputId": "d439f889-14a6-4582-eba6-14b7b9aa1fe4"
      },
      "execution_count": 22,
      "outputs": [
        {
          "output_type": "execute_result",
          "data": {
            "text/plain": [
              "Index(['title', 'channelTitle', 'categoryId', 'view_count', 'likes',\n",
              "       'dislikes', 'comment_count', 'channelId', 'trending_date2'],\n",
              "      dtype='object')"
            ]
          },
          "metadata": {},
          "execution_count": 22
        }
      ]
    },
    {
      "cell_type": "code",
      "source": [
        "# comment_count / view_count 가 가장 높은 영상 제목을 확인해야 한다."
      ],
      "metadata": {
        "id": "netc1TUd3YHX"
      },
      "execution_count": 23,
      "outputs": []
    },
    {
      "cell_type": "code",
      "source": [
        "# 1. view_count가 분모이기 때문에 0을 제외해야 한다."
      ],
      "metadata": {
        "id": "PBoUp16K3v2o"
      },
      "execution_count": 24,
      "outputs": []
    },
    {
      "cell_type": "code",
      "source": [
        "new = df.drop(df[df['view_count'] == 0].index, axis=0)"
      ],
      "metadata": {
        "id": "bWgn3AVv2cmu"
      },
      "execution_count": 25,
      "outputs": []
    },
    {
      "cell_type": "code",
      "source": [
        "# 2. comment_count / view_count를 해본다."
      ],
      "metadata": {
        "id": "N_bXFbCv3yWV"
      },
      "execution_count": 26,
      "outputs": []
    },
    {
      "cell_type": "code",
      "source": [
        "divided = new['comment_count']/new['view_count'] # 크기 순 정렬이나 최댓값으로 인덱스를 구하면 될 것 같다.\n",
        "divided"
      ],
      "metadata": {
        "colab": {
          "base_uri": "https://localhost:8080/"
        },
        "id": "W6g7s4Nk34XC",
        "outputId": "5853512a-e3de-4d0d-f566-6e1453e58fc8"
      },
      "execution_count": 27,
      "outputs": [
        {
          "output_type": "execute_result",
          "data": {
            "text/plain": [
              "0        0.004539\n",
              "1        0.007739\n",
              "2        0.000513\n",
              "3        0.006566\n",
              "4        0.006349\n",
              "           ...   \n",
              "60394    0.005792\n",
              "60395    0.000710\n",
              "60396    0.001701\n",
              "60397    0.000460\n",
              "60398    0.014212\n",
              "Length: 60386, dtype: float64"
            ]
          },
          "metadata": {},
          "execution_count": 27
        }
      ]
    },
    {
      "cell_type": "code",
      "source": [
        "# 3-1. 크기 순 정렬"
      ],
      "metadata": {
        "id": "dmgNpqTx4Gk3"
      },
      "execution_count": 28,
      "outputs": []
    },
    {
      "cell_type": "code",
      "source": [
        "divided.sort_values(ascending=False) # sort가 작동하지 않는다...ㅠㅠ"
      ],
      "metadata": {
        "colab": {
          "base_uri": "https://localhost:8080/"
        },
        "id": "uPa2Lpjg1ld2",
        "outputId": "eeee7987-4f52-4c0d-f4fe-516d6f0feb0b"
      },
      "execution_count": 29,
      "outputs": [
        {
          "output_type": "execute_result",
          "data": {
            "text/plain": [
              "50830    0.161516\n",
              "51047    0.159655\n",
              "51264    0.153998\n",
              "52786    0.150693\n",
              "51494    0.150621\n",
              "           ...   \n",
              "58650    0.000000\n",
              "39235    0.000000\n",
              "46801    0.000000\n",
              "7265     0.000000\n",
              "55383    0.000000\n",
              "Length: 60386, dtype: float64"
            ]
          },
          "metadata": {},
          "execution_count": 29
        }
      ]
    },
    {
      "cell_type": "code",
      "source": [
        "# 3-2 최댓값"
      ],
      "metadata": {
        "id": "AWIyMusw17ny"
      },
      "execution_count": 30,
      "outputs": []
    },
    {
      "cell_type": "code",
      "source": [
        "value = max(divided) # max 값\n",
        "value"
      ],
      "metadata": {
        "colab": {
          "base_uri": "https://localhost:8080/"
        },
        "id": "f8_5GLUh4OcP",
        "outputId": "0ab8ca17-ebfd-41c1-e703-6fe17b10c76f"
      },
      "execution_count": 31,
      "outputs": [
        {
          "output_type": "execute_result",
          "data": {
            "text/plain": [
              "0.16151637633416135"
            ]
          },
          "metadata": {},
          "execution_count": 31
        }
      ]
    },
    {
      "cell_type": "code",
      "source": [
        "divided[divided.isin([value])] # max을 가지고 있는 행"
      ],
      "metadata": {
        "colab": {
          "base_uri": "https://localhost:8080/"
        },
        "id": "OnQXF8Bu6E7s",
        "outputId": "7c2c9894-7db2-45bc-8449-a82b9dc7e4f7"
      },
      "execution_count": 32,
      "outputs": [
        {
          "output_type": "execute_result",
          "data": {
            "text/plain": [
              "50830    0.161516\n",
              "dtype: float64"
            ]
          },
          "metadata": {},
          "execution_count": 32
        }
      ]
    },
    {
      "cell_type": "code",
      "source": [
        "index = divided[divided.isin([value])].index[0] # 인덱스 추출\n",
        "index"
      ],
      "metadata": {
        "colab": {
          "base_uri": "https://localhost:8080/"
        },
        "id": "1NPVfi7C5t5s",
        "outputId": "4be92dc4-6f80-49ae-f2ad-217cb3cf3bd8"
      },
      "execution_count": 33,
      "outputs": [
        {
          "output_type": "execute_result",
          "data": {
            "text/plain": [
              "50830"
            ]
          },
          "metadata": {},
          "execution_count": 33
        }
      ]
    },
    {
      "cell_type": "code",
      "source": [
        "my_answer = df.loc[index, 'title'] # 답\n",
        "print(my_answer)"
      ],
      "metadata": {
        "colab": {
          "base_uri": "https://localhost:8080/"
        },
        "id": "5OEcGfr04Pqj",
        "outputId": "2561102a-fb8e-4567-d75b-44fd44712301"
      },
      "execution_count": 34,
      "outputs": [
        {
          "output_type": "stream",
          "name": "stdout",
          "text": [
            "60분 동안 댓글이 달리지 않으면, 영상이 삭제됩니다. (챌린지)\n"
          ]
        }
      ]
    },
    {
      "cell_type": "code",
      "source": [
        "new = df.drop(df[df['view_count'] == 0].index, axis=0)\n",
        "divided = new['comment_count']/new['view_count']\n",
        "index = divided[divided.isin([max(divided)])].index[0]\n",
        "my_answer = df.loc[index, 'title']\n",
        "print(my_answer)"
      ],
      "metadata": {
        "colab": {
          "base_uri": "https://localhost:8080/"
        },
        "id": "j8RxAbnu4eLw",
        "outputId": "410393f7-d78c-4d9d-b0eb-e587c0191a03"
      },
      "execution_count": 35,
      "outputs": [
        {
          "output_type": "stream",
          "name": "stdout",
          "text": [
            "60분 동안 댓글이 달리지 않으면, 영상이 삭제됩니다. (챌린지)\n"
          ]
        }
      ]
    },
    {
      "cell_type": "code",
      "source": [
        "# Q. like 대비 dislike의 수가 가장 적은 영상은 무엇인가? (like, dislike 값이 0인경우는 제외한다)"
      ],
      "metadata": {
        "id": "BKLua6jR7ItP"
      },
      "execution_count": 36,
      "outputs": []
    },
    {
      "cell_type": "code",
      "source": [
        "# 1. 우선 like 또는 disklike가 0인 경우 제외, (like와 dislike가 모두 0보다 커야 함)"
      ],
      "metadata": {
        "id": "Jj1tFj5girzj"
      },
      "execution_count": null,
      "outputs": []
    },
    {
      "cell_type": "code",
      "source": [
        "new = df[(df['likes'] > 0) & (df['dislikes'] > 0)].copy()"
      ],
      "metadata": {
        "id": "jJ1T6yHF7z-G"
      },
      "execution_count": 55,
      "outputs": []
    },
    {
      "cell_type": "code",
      "source": [
        "# 2. dislikes / likes 를 최소여야 함"
      ],
      "metadata": {
        "id": "ZE0wd3jTkglK"
      },
      "execution_count": null,
      "outputs": []
    },
    {
      "cell_type": "code",
      "source": [
        "new['dislikes'] / new['likes']"
      ],
      "metadata": {
        "colab": {
          "base_uri": "https://localhost:8080/"
        },
        "id": "QIAgCl8nkfjz",
        "outputId": "628cf6f9-8761-49ca-b74d-aea85199fe84"
      },
      "execution_count": 57,
      "outputs": [
        {
          "output_type": "execute_result",
          "data": {
            "text/plain": [
              "0        0.019085\n",
              "2        0.033670\n",
              "3        0.018215\n",
              "4        0.028331\n",
              "5        0.013803\n",
              "           ...   \n",
              "60394    0.012537\n",
              "60395    0.017653\n",
              "60396    0.009928\n",
              "60397    0.020275\n",
              "60398    0.005456\n",
              "Length: 59693, dtype: float64"
            ]
          },
          "metadata": {},
          "execution_count": 57
        }
      ]
    },
    {
      "cell_type": "code",
      "source": [
        "# 3. 오름차순 (작은 순) 정렬 후 첫번째 인덱스 추출"
      ],
      "metadata": {
        "id": "iPvHYdw7kxqB"
      },
      "execution_count": null,
      "outputs": []
    },
    {
      "cell_type": "code",
      "source": [
        "(new['dislikes'] / new['likes']).sort_values(ascending=True).index[0]"
      ],
      "metadata": {
        "colab": {
          "base_uri": "https://localhost:8080/"
        },
        "id": "QKQVBeJ_kwGY",
        "outputId": "1f428ee0-f2a5-4995-a65a-59d97181821a"
      },
      "execution_count": 63,
      "outputs": [
        {
          "output_type": "execute_result",
          "data": {
            "text/plain": [
              "11477"
            ]
          },
          "metadata": {},
          "execution_count": 63
        }
      ]
    },
    {
      "cell_type": "code",
      "source": [
        "# 4. 추출한 인덱스를 활용하여 title 값 구하기"
      ],
      "metadata": {
        "id": "7ukPsAjTlAdq"
      },
      "execution_count": null,
      "outputs": []
    },
    {
      "cell_type": "code",
      "source": [
        "my_answer = new.loc[(new['dislikes'] / new['likes']).sort_values(ascending=True).index[0], 'title']\n",
        "print(my_answer)"
      ],
      "metadata": {
        "id": "O9ghNhVQF6ih",
        "colab": {
          "base_uri": "https://localhost:8080/"
        },
        "outputId": "d18c70e4-4157-4740-97b8-86bf0a7a2dfa"
      },
      "execution_count": 58,
      "outputs": [
        {
          "output_type": "stream",
          "name": "stdout",
          "text": [
            "[줌터뷰] *최초공개* 사부작즈🐰🐶의 비공식 이름은 아이라인즈? 꿀조합 티키타카 가득한 NCT 127 도영&정우의 줌터뷰\n"
          ]
        }
      ]
    },
    {
      "cell_type": "code",
      "source": [
        "target = df.loc[(df.likes !=0) & (df.dislikes !=0)]\n",
        "num = (target['dislikes']/target['likes']).sort_values().index[0]\n",
        "answer = df.iloc[num].title\n",
        "print(answer)"
      ],
      "metadata": {
        "colab": {
          "base_uri": "https://localhost:8080/"
        },
        "id": "o2PVwotJionn",
        "outputId": "a95e2e54-7401-4ad9-87e8-bf5d072cb550"
      },
      "execution_count": 64,
      "outputs": [
        {
          "output_type": "stream",
          "name": "stdout",
          "text": [
            "[줌터뷰] *최초공개* 사부작즈🐰🐶의 비공식 이름은 아이라인즈? 꿀조합 티키타카 가득한 NCT 127 도영&정우의 줌터뷰\n"
          ]
        }
      ]
    },
    {
      "cell_type": "code",
      "source": [
        "my_answer == answer"
      ],
      "metadata": {
        "colab": {
          "base_uri": "https://localhost:8080/"
        },
        "id": "63rDJBhdlX6c",
        "outputId": "52ca870b-69f4-42c5-c1ca-d2c0c489c176"
      },
      "execution_count": 65,
      "outputs": [
        {
          "output_type": "execute_result",
          "data": {
            "text/plain": [
              "True"
            ]
          },
          "metadata": {},
          "execution_count": 65
        }
      ]
    },
    {
      "cell_type": "code",
      "source": [
        "# Q. 가장많은 트렌드 영상을 제작한 채널의 이름은 무엇인가? (날짜기준, 중복포함)"
      ],
      "metadata": {
        "id": "bm7bKSfolZ_m"
      },
      "execution_count": 66,
      "outputs": []
    },
    {
      "cell_type": "code",
      "source": [
        "# 인기 동영상을 가장 많이 제작한 채널의 이름을 묻는 것 같다."
      ],
      "metadata": {
        "id": "3FvQXFlMldS9"
      },
      "execution_count": 67,
      "outputs": []
    },
    {
      "cell_type": "code",
      "source": [
        "# 1. channelId를 기준으로 count 그룹화 후 최상위 인덱스 추출"
      ],
      "metadata": {
        "id": "L_N2nweyl-9q"
      },
      "execution_count": 68,
      "outputs": []
    },
    {
      "cell_type": "code",
      "source": [
        "index = df.value_counts('channelId').index[0]\n",
        "index"
      ],
      "metadata": {
        "colab": {
          "base_uri": "https://localhost:8080/",
          "height": 36
        },
        "id": "Wb6TVWaZmGLH",
        "outputId": "86f2b004-67e7-491e-88c8-c16a88d74f9f"
      },
      "execution_count": 121,
      "outputs": [
        {
          "output_type": "execute_result",
          "data": {
            "text/plain": [
              "'UCszFjh7CEfwDb7UUGb4RzCQ'"
            ],
            "application/vnd.google.colaboratory.intrinsic+json": {
              "type": "string"
            }
          },
          "metadata": {},
          "execution_count": 121
        }
      ]
    },
    {
      "cell_type": "code",
      "source": [
        "# 2. 추출한 인덱스를 활용하여 조건으로 넣어주기"
      ],
      "metadata": {
        "id": "bMVNbPNZm92b"
      },
      "execution_count": 122,
      "outputs": []
    },
    {
      "cell_type": "code",
      "source": [
        "df[df['channelId'] == index]"
      ],
      "metadata": {
        "colab": {
          "base_uri": "https://localhost:8080/",
          "height": 423
        },
        "id": "1IP9CytanD3b",
        "outputId": "16c66d0b-2b7b-4133-eb03-b232f2b6e595"
      },
      "execution_count": 123,
      "outputs": [
        {
          "output_type": "execute_result",
          "data": {
            "text/plain": [
              "                                 title channelTitle  categoryId  view_count  \\\n",
              "76                           [병영일기] 부식           짤툰           1     1496529   \n",
              "325                          [병영일기] 부식           짤툰           1     1518445   \n",
              "558                          [병영일기] 부식           짤툰           1     1537676   \n",
              "778                          [병영일기] 부식           짤툰           1     1553145   \n",
              "999                          [병영일기] 부식           짤툰           1     1565338   \n",
              "...                                ...          ...         ...         ...   \n",
              "55966  [짐승친구들] 추석 특집! 욕쟁이 앵무새 VS 짐승친구들           짤툰           1     1419688   \n",
              "56195  [짐승친구들] 추석 특집! 욕쟁이 앵무새 VS 짐승친구들           짤툰           1     1450622   \n",
              "59814                   [짐승친구들] 느그 이름은           짤툰           1     1014334   \n",
              "60033                   [짐승친구들] 느그 이름은           짤툰           1     1237262   \n",
              "60241                   [짐승친구들] 느그 이름은           짤툰           1     1374286   \n",
              "\n",
              "       likes  dislikes  comment_count                 channelId trending_date2  \n",
              "76     26284      1422           5710  UCszFjh7CEfwDb7UUGb4RzCQ     2021-01-01  \n",
              "325    26402      1442           5730  UCszFjh7CEfwDb7UUGb4RzCQ     2021-01-02  \n",
              "558    26511      1453           5752  UCszFjh7CEfwDb7UUGb4RzCQ     2021-01-03  \n",
              "778    26603      1455           5760  UCszFjh7CEfwDb7UUGb4RzCQ     2021-01-04  \n",
              "999    26659      1456           5768  UCszFjh7CEfwDb7UUGb4RzCQ     2021-01-05  \n",
              "...      ...       ...            ...                       ...            ...  \n",
              "55966  27888       517           3411  UCszFjh7CEfwDb7UUGb4RzCQ     2021-09-27  \n",
              "56195  28089       521           3418  UCszFjh7CEfwDb7UUGb4RzCQ     2021-09-28  \n",
              "59814  24234       399           2495  UCszFjh7CEfwDb7UUGb4RzCQ     2021-10-17  \n",
              "60033  27081       461           2705  UCszFjh7CEfwDb7UUGb4RzCQ     2021-10-18  \n",
              "60241  28365       510           2807  UCszFjh7CEfwDb7UUGb4RzCQ     2021-10-19  \n",
              "\n",
              "[372 rows x 9 columns]"
            ],
            "text/html": [
              "\n",
              "  <div id=\"df-a61ea00a-d806-4253-9449-268369f3df4f\">\n",
              "    <div class=\"colab-df-container\">\n",
              "      <div>\n",
              "<style scoped>\n",
              "    .dataframe tbody tr th:only-of-type {\n",
              "        vertical-align: middle;\n",
              "    }\n",
              "\n",
              "    .dataframe tbody tr th {\n",
              "        vertical-align: top;\n",
              "    }\n",
              "\n",
              "    .dataframe thead th {\n",
              "        text-align: right;\n",
              "    }\n",
              "</style>\n",
              "<table border=\"1\" class=\"dataframe\">\n",
              "  <thead>\n",
              "    <tr style=\"text-align: right;\">\n",
              "      <th></th>\n",
              "      <th>title</th>\n",
              "      <th>channelTitle</th>\n",
              "      <th>categoryId</th>\n",
              "      <th>view_count</th>\n",
              "      <th>likes</th>\n",
              "      <th>dislikes</th>\n",
              "      <th>comment_count</th>\n",
              "      <th>channelId</th>\n",
              "      <th>trending_date2</th>\n",
              "    </tr>\n",
              "  </thead>\n",
              "  <tbody>\n",
              "    <tr>\n",
              "      <th>76</th>\n",
              "      <td>[병영일기] 부식</td>\n",
              "      <td>짤툰</td>\n",
              "      <td>1</td>\n",
              "      <td>1496529</td>\n",
              "      <td>26284</td>\n",
              "      <td>1422</td>\n",
              "      <td>5710</td>\n",
              "      <td>UCszFjh7CEfwDb7UUGb4RzCQ</td>\n",
              "      <td>2021-01-01</td>\n",
              "    </tr>\n",
              "    <tr>\n",
              "      <th>325</th>\n",
              "      <td>[병영일기] 부식</td>\n",
              "      <td>짤툰</td>\n",
              "      <td>1</td>\n",
              "      <td>1518445</td>\n",
              "      <td>26402</td>\n",
              "      <td>1442</td>\n",
              "      <td>5730</td>\n",
              "      <td>UCszFjh7CEfwDb7UUGb4RzCQ</td>\n",
              "      <td>2021-01-02</td>\n",
              "    </tr>\n",
              "    <tr>\n",
              "      <th>558</th>\n",
              "      <td>[병영일기] 부식</td>\n",
              "      <td>짤툰</td>\n",
              "      <td>1</td>\n",
              "      <td>1537676</td>\n",
              "      <td>26511</td>\n",
              "      <td>1453</td>\n",
              "      <td>5752</td>\n",
              "      <td>UCszFjh7CEfwDb7UUGb4RzCQ</td>\n",
              "      <td>2021-01-03</td>\n",
              "    </tr>\n",
              "    <tr>\n",
              "      <th>778</th>\n",
              "      <td>[병영일기] 부식</td>\n",
              "      <td>짤툰</td>\n",
              "      <td>1</td>\n",
              "      <td>1553145</td>\n",
              "      <td>26603</td>\n",
              "      <td>1455</td>\n",
              "      <td>5760</td>\n",
              "      <td>UCszFjh7CEfwDb7UUGb4RzCQ</td>\n",
              "      <td>2021-01-04</td>\n",
              "    </tr>\n",
              "    <tr>\n",
              "      <th>999</th>\n",
              "      <td>[병영일기] 부식</td>\n",
              "      <td>짤툰</td>\n",
              "      <td>1</td>\n",
              "      <td>1565338</td>\n",
              "      <td>26659</td>\n",
              "      <td>1456</td>\n",
              "      <td>5768</td>\n",
              "      <td>UCszFjh7CEfwDb7UUGb4RzCQ</td>\n",
              "      <td>2021-01-05</td>\n",
              "    </tr>\n",
              "    <tr>\n",
              "      <th>...</th>\n",
              "      <td>...</td>\n",
              "      <td>...</td>\n",
              "      <td>...</td>\n",
              "      <td>...</td>\n",
              "      <td>...</td>\n",
              "      <td>...</td>\n",
              "      <td>...</td>\n",
              "      <td>...</td>\n",
              "      <td>...</td>\n",
              "    </tr>\n",
              "    <tr>\n",
              "      <th>55966</th>\n",
              "      <td>[짐승친구들] 추석 특집! 욕쟁이 앵무새 VS 짐승친구들</td>\n",
              "      <td>짤툰</td>\n",
              "      <td>1</td>\n",
              "      <td>1419688</td>\n",
              "      <td>27888</td>\n",
              "      <td>517</td>\n",
              "      <td>3411</td>\n",
              "      <td>UCszFjh7CEfwDb7UUGb4RzCQ</td>\n",
              "      <td>2021-09-27</td>\n",
              "    </tr>\n",
              "    <tr>\n",
              "      <th>56195</th>\n",
              "      <td>[짐승친구들] 추석 특집! 욕쟁이 앵무새 VS 짐승친구들</td>\n",
              "      <td>짤툰</td>\n",
              "      <td>1</td>\n",
              "      <td>1450622</td>\n",
              "      <td>28089</td>\n",
              "      <td>521</td>\n",
              "      <td>3418</td>\n",
              "      <td>UCszFjh7CEfwDb7UUGb4RzCQ</td>\n",
              "      <td>2021-09-28</td>\n",
              "    </tr>\n",
              "    <tr>\n",
              "      <th>59814</th>\n",
              "      <td>[짐승친구들] 느그 이름은</td>\n",
              "      <td>짤툰</td>\n",
              "      <td>1</td>\n",
              "      <td>1014334</td>\n",
              "      <td>24234</td>\n",
              "      <td>399</td>\n",
              "      <td>2495</td>\n",
              "      <td>UCszFjh7CEfwDb7UUGb4RzCQ</td>\n",
              "      <td>2021-10-17</td>\n",
              "    </tr>\n",
              "    <tr>\n",
              "      <th>60033</th>\n",
              "      <td>[짐승친구들] 느그 이름은</td>\n",
              "      <td>짤툰</td>\n",
              "      <td>1</td>\n",
              "      <td>1237262</td>\n",
              "      <td>27081</td>\n",
              "      <td>461</td>\n",
              "      <td>2705</td>\n",
              "      <td>UCszFjh7CEfwDb7UUGb4RzCQ</td>\n",
              "      <td>2021-10-18</td>\n",
              "    </tr>\n",
              "    <tr>\n",
              "      <th>60241</th>\n",
              "      <td>[짐승친구들] 느그 이름은</td>\n",
              "      <td>짤툰</td>\n",
              "      <td>1</td>\n",
              "      <td>1374286</td>\n",
              "      <td>28365</td>\n",
              "      <td>510</td>\n",
              "      <td>2807</td>\n",
              "      <td>UCszFjh7CEfwDb7UUGb4RzCQ</td>\n",
              "      <td>2021-10-19</td>\n",
              "    </tr>\n",
              "  </tbody>\n",
              "</table>\n",
              "<p>372 rows × 9 columns</p>\n",
              "</div>\n",
              "      <button class=\"colab-df-convert\" onclick=\"convertToInteractive('df-a61ea00a-d806-4253-9449-268369f3df4f')\"\n",
              "              title=\"Convert this dataframe to an interactive table.\"\n",
              "              style=\"display:none;\">\n",
              "        \n",
              "  <svg xmlns=\"http://www.w3.org/2000/svg\" height=\"24px\"viewBox=\"0 0 24 24\"\n",
              "       width=\"24px\">\n",
              "    <path d=\"M0 0h24v24H0V0z\" fill=\"none\"/>\n",
              "    <path d=\"M18.56 5.44l.94 2.06.94-2.06 2.06-.94-2.06-.94-.94-2.06-.94 2.06-2.06.94zm-11 1L8.5 8.5l.94-2.06 2.06-.94-2.06-.94L8.5 2.5l-.94 2.06-2.06.94zm10 10l.94 2.06.94-2.06 2.06-.94-2.06-.94-.94-2.06-.94 2.06-2.06.94z\"/><path d=\"M17.41 7.96l-1.37-1.37c-.4-.4-.92-.59-1.43-.59-.52 0-1.04.2-1.43.59L10.3 9.45l-7.72 7.72c-.78.78-.78 2.05 0 2.83L4 21.41c.39.39.9.59 1.41.59.51 0 1.02-.2 1.41-.59l7.78-7.78 2.81-2.81c.8-.78.8-2.07 0-2.86zM5.41 20L4 18.59l7.72-7.72 1.47 1.35L5.41 20z\"/>\n",
              "  </svg>\n",
              "      </button>\n",
              "      \n",
              "  <style>\n",
              "    .colab-df-container {\n",
              "      display:flex;\n",
              "      flex-wrap:wrap;\n",
              "      gap: 12px;\n",
              "    }\n",
              "\n",
              "    .colab-df-convert {\n",
              "      background-color: #E8F0FE;\n",
              "      border: none;\n",
              "      border-radius: 50%;\n",
              "      cursor: pointer;\n",
              "      display: none;\n",
              "      fill: #1967D2;\n",
              "      height: 32px;\n",
              "      padding: 0 0 0 0;\n",
              "      width: 32px;\n",
              "    }\n",
              "\n",
              "    .colab-df-convert:hover {\n",
              "      background-color: #E2EBFA;\n",
              "      box-shadow: 0px 1px 2px rgba(60, 64, 67, 0.3), 0px 1px 3px 1px rgba(60, 64, 67, 0.15);\n",
              "      fill: #174EA6;\n",
              "    }\n",
              "\n",
              "    [theme=dark] .colab-df-convert {\n",
              "      background-color: #3B4455;\n",
              "      fill: #D2E3FC;\n",
              "    }\n",
              "\n",
              "    [theme=dark] .colab-df-convert:hover {\n",
              "      background-color: #434B5C;\n",
              "      box-shadow: 0px 1px 3px 1px rgba(0, 0, 0, 0.15);\n",
              "      filter: drop-shadow(0px 1px 2px rgba(0, 0, 0, 0.3));\n",
              "      fill: #FFFFFF;\n",
              "    }\n",
              "  </style>\n",
              "\n",
              "      <script>\n",
              "        const buttonEl =\n",
              "          document.querySelector('#df-a61ea00a-d806-4253-9449-268369f3df4f button.colab-df-convert');\n",
              "        buttonEl.style.display =\n",
              "          google.colab.kernel.accessAllowed ? 'block' : 'none';\n",
              "\n",
              "        async function convertToInteractive(key) {\n",
              "          const element = document.querySelector('#df-a61ea00a-d806-4253-9449-268369f3df4f');\n",
              "          const dataTable =\n",
              "            await google.colab.kernel.invokeFunction('convertToInteractive',\n",
              "                                                     [key], {});\n",
              "          if (!dataTable) return;\n",
              "\n",
              "          const docLinkHtml = 'Like what you see? Visit the ' +\n",
              "            '<a target=\"_blank\" href=https://colab.research.google.com/notebooks/data_table.ipynb>data table notebook</a>'\n",
              "            + ' to learn more about interactive tables.';\n",
              "          element.innerHTML = '';\n",
              "          dataTable['output_type'] = 'display_data';\n",
              "          await google.colab.output.renderOutput(dataTable, element);\n",
              "          const docLink = document.createElement('div');\n",
              "          docLink.innerHTML = docLinkHtml;\n",
              "          element.appendChild(docLink);\n",
              "        }\n",
              "      </script>\n",
              "    </div>\n",
              "  </div>\n",
              "  "
            ]
          },
          "metadata": {},
          "execution_count": 123
        }
      ]
    },
    {
      "cell_type": "code",
      "source": [
        "# 3. channelTitle로 구체화"
      ],
      "metadata": {
        "id": "Z71vxUYIncR8"
      },
      "execution_count": 124,
      "outputs": []
    },
    {
      "cell_type": "code",
      "source": [
        "df[df['channelId'] == index]['channelTitle']"
      ],
      "metadata": {
        "colab": {
          "base_uri": "https://localhost:8080/"
        },
        "id": "s2_olo5wmJXa",
        "outputId": "23a8681b-9463-4553-bbf3-ac611cada17c"
      },
      "execution_count": 125,
      "outputs": [
        {
          "output_type": "execute_result",
          "data": {
            "text/plain": [
              "76       짤툰\n",
              "325      짤툰\n",
              "558      짤툰\n",
              "778      짤툰\n",
              "999      짤툰\n",
              "         ..\n",
              "55966    짤툰\n",
              "56195    짤툰\n",
              "59814    짤툰\n",
              "60033    짤툰\n",
              "60241    짤툰\n",
              "Name: channelTitle, Length: 372, dtype: object"
            ]
          },
          "metadata": {},
          "execution_count": 125
        }
      ]
    },
    {
      "cell_type": "code",
      "source": [
        "# 4. 짤툰이 중복되므로 drop이나 unique를 활용해볼 수 있을 것 같다."
      ],
      "metadata": {
        "id": "yv0h6wg5meIa"
      },
      "execution_count": 126,
      "outputs": []
    },
    {
      "cell_type": "code",
      "source": [
        "# 4-1 drop 활용"
      ],
      "metadata": {
        "id": "ufURdCwcnslj"
      },
      "execution_count": 127,
      "outputs": []
    },
    {
      "cell_type": "code",
      "source": [
        "my_answer = df[df['channelId'] == index]['channelTitle'].drop_duplicates().values[0]\n",
        "print(my_answer)"
      ],
      "metadata": {
        "colab": {
          "base_uri": "https://localhost:8080/"
        },
        "id": "DoKmVDD6niWG",
        "outputId": "8d652ff7-fc5b-44dc-9284-6645a826b363"
      },
      "execution_count": 141,
      "outputs": [
        {
          "output_type": "stream",
          "name": "stdout",
          "text": [
            "짤툰\n"
          ]
        }
      ]
    },
    {
      "cell_type": "code",
      "source": [
        "# 4-2 unique 활용"
      ],
      "metadata": {
        "id": "kh7knmObn4kD"
      },
      "execution_count": 129,
      "outputs": []
    },
    {
      "cell_type": "code",
      "source": [
        "my_answer = df[df['channelId'] == index]['channelTitle'].unique()[0]\n",
        "print(my_answer)"
      ],
      "metadata": {
        "colab": {
          "base_uri": "https://localhost:8080/"
        },
        "id": "cyWufORxnl8m",
        "outputId": "a500c513-ff8b-4287-ae1e-d7a5a4ca0463"
      },
      "execution_count": 95,
      "outputs": [
        {
          "output_type": "stream",
          "name": "stdout",
          "text": [
            "짤툰\n"
          ]
        }
      ]
    },
    {
      "cell_type": "code",
      "source": [
        "answer = df.loc[df.channelId ==df.channelId.value_counts().index[0]].channelTitle.unique()[0]\n",
        "print(answer)"
      ],
      "metadata": {
        "colab": {
          "base_uri": "https://localhost:8080/"
        },
        "id": "SKH8rEFjnwU1",
        "outputId": "f64e1c39-b758-4964-8b65-6bcf35063982"
      },
      "execution_count": 94,
      "outputs": [
        {
          "output_type": "stream",
          "name": "stdout",
          "text": [
            "짤툰\n"
          ]
        }
      ]
    },
    {
      "cell_type": "code",
      "source": [
        "# Q. 20회(20일)이상 인기동영상 리스트에 포함된 동영상의 숫자는? > 복습 필요"
      ],
      "metadata": {
        "id": "qwVRzMHxoAP0"
      },
      "execution_count": null,
      "outputs": []
    },
    {
      "cell_type": "code",
      "source": [
        "# title별로 count를 구하면 며칠 동안 포함되었는지 구할 수 있을 것이다."
      ],
      "metadata": {
        "id": "GbuLaUSj6nzG"
      },
      "execution_count": null,
      "outputs": []
    },
    {
      "cell_type": "code",
      "source": [
        "# 1. title 기준으로 value_counts"
      ],
      "metadata": {
        "id": "gtdNT9Fc7Zyx"
      },
      "execution_count": 253,
      "outputs": []
    },
    {
      "cell_type": "code",
      "source": [
        "new = df.value_counts('title')\n",
        "new"
      ],
      "metadata": {
        "colab": {
          "base_uri": "https://localhost:8080/"
        },
        "id": "QfV5JbHD7CTA",
        "outputId": "cfe8e438-9918-4912-ff34-753b6d2afadb"
      },
      "execution_count": 247,
      "outputs": [
        {
          "output_type": "execute_result",
          "data": {
            "text/plain": [
              "title\n",
              "Go Back (고백)                                                            42\n",
              "컵라면 먹을 때 절대 일어날리 없는 상황들 ㅋㅋㅋ                                             24\n",
              "대한민국 VS 투르크메니스탄 : FIFA 카타르 월드컵 2차 예선 하이라이트 - 2021.06.05                 24\n",
              "대박... 멧돼지를 아들로 삼은 할아버지｜KBS 주주클럽 050410 방송                               23\n",
              "2주더놀릴예정                                                                 23\n",
              "                                                                        ..\n",
              "[7회 예고] “지금 눈에 뵈는 거 없어” 유진, 진짜 시작된 복수?!ㅣ펜트하우스2(Penthouse2)ㅣSBS DRAMA     1\n",
              "먹방 브이로그) 뭔 하루가 처먹다가 끝나네                                                  1\n",
              "머글 손등에 칼 꽂는 마술                                                           1\n",
              "(ENG CC) 택견 VS 극진 가라데 -천하제일 무술대회 ep03 l  Taekgyun VS Kyokushinkarate     1\n",
              "원정상은 진자림이 귀엽다고 생각한다?                                                     1\n",
              "Length: 7854, dtype: int64"
            ]
          },
          "metadata": {},
          "execution_count": 247
        }
      ]
    },
    {
      "cell_type": "code",
      "source": [
        "# 2. 20회 이상 포함된 경우를 구하고 sum으로 길이 구하기"
      ],
      "metadata": {
        "id": "uYk1rJBj7cZL"
      },
      "execution_count": null,
      "outputs": []
    },
    {
      "cell_type": "code",
      "source": [
        "my_answer = (new>=20).sum()\n",
        "my_answer"
      ],
      "metadata": {
        "colab": {
          "base_uri": "https://localhost:8080/"
        },
        "id": "iVQJYplM4ePi",
        "outputId": "a3370203-e8f0-4c42-ef61-b649597b8a0a"
      },
      "execution_count": 252,
      "outputs": [
        {
          "output_type": "execute_result",
          "data": {
            "text/plain": [
              "41"
            ]
          },
          "metadata": {},
          "execution_count": 252
        }
      ]
    },
    {
      "cell_type": "code",
      "source": [
        "answer= (df[['title','channelId']].value_counts()>=20).sum()\n",
        "print(answer)"
      ],
      "metadata": {
        "colab": {
          "base_uri": "https://localhost:8080/"
        },
        "id": "V_V3LSKx4xyY",
        "outputId": "b6693d03-c148-440a-9cf8-e28ba02c6f7f"
      },
      "execution_count": 254,
      "outputs": [
        {
          "output_type": "stream",
          "name": "stdout",
          "text": [
            "40\n"
          ]
        }
      ]
    },
    {
      "cell_type": "code",
      "source": [
        "# 대체 channelId는 왜 포함하는 걸까?"
      ],
      "metadata": {
        "id": "wBjud4Vm7lMn"
      },
      "execution_count": null,
      "outputs": []
    }
  ]
}