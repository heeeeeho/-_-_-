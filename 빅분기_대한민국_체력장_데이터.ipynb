{
  "nbformat": 4,
  "nbformat_minor": 0,
  "metadata": {
    "colab": {
      "provenance": [],
      "collapsed_sections": [],
      "authorship_tag": "ABX9TyMCKcqGa6iQStxnyFTTMozm",
      "include_colab_link": true
    },
    "kernelspec": {
      "name": "python3",
      "display_name": "Python 3"
    },
    "language_info": {
      "name": "python"
    }
  },
  "cells": [
    {
      "cell_type": "markdown",
      "metadata": {
        "id": "view-in-github",
        "colab_type": "text"
      },
      "source": [
        "<a href=\"https://colab.research.google.com/github/heeeeeho/BigData_Analyst/blob/main/%EB%B9%85%EB%B6%84%EA%B8%B0_%EB%8C%80%ED%95%9C%EB%AF%BC%EA%B5%AD_%EC%B2%B4%EB%A0%A5%EC%9E%A5_%EB%8D%B0%EC%9D%B4%ED%84%B0.ipynb\" target=\"_parent\"><img src=\"https://colab.research.google.com/assets/colab-badge.svg\" alt=\"Open In Colab\"/></a>"
      ]
    },
    {
      "cell_type": "markdown",
      "source": [
        "# 대한민국 체력장 데이터"
      ],
      "metadata": {
        "id": "lbR0U32pNfcY"
      }
    },
    {
      "cell_type": "code",
      "source": [
        "import pandas as pd\n",
        "df =pd.read_csv('https://raw.githubusercontent.com/Datamanim/datarepo/main/body/body.csv')\n",
        "df.head()"
      ],
      "metadata": {
        "colab": {
          "base_uri": "https://localhost:8080/",
          "height": 268
        },
        "id": "1AHYex_FNfGZ",
        "outputId": "002dd809-8ccb-4ac5-e7b9-80e898480bab"
      },
      "execution_count": 1,
      "outputs": [
        {
          "output_type": "execute_result",
          "data": {
            "text/plain": [
              "   측정나이 측정회원성별  신장 : cm  체중 : kg  체지방율 : %  이완기혈압(최저) : mmHg  \\\n",
              "0  59.0      M    175.0     70.6      19.2              91.0   \n",
              "1  40.0      F    161.4     45.8      21.7              62.0   \n",
              "2  27.0      M    176.6     84.8      19.2              87.0   \n",
              "3  38.0      M    167.6     76.7      24.7              63.0   \n",
              "4  21.0      M    165.2     66.2      21.5              83.0   \n",
              "\n",
              "   수축기혈압(최고) : mmHg  악력D : kg  앉아윗몸앞으로굽히기 : cm  교차윗몸일으키기 : 회  제자리 멀리뛰기 : cm 등급  \n",
              "0             150.0      40.6             12.2          30.0          179.0  C  \n",
              "1             119.0      22.1             16.0          32.0          165.0  B  \n",
              "2             153.0      45.9             13.2          61.0          216.0  B  \n",
              "3             132.0      43.6             16.0          45.0          231.0  A  \n",
              "4             106.0      33.5             10.6          46.0          198.0  C  "
            ],
            "text/html": [
              "\n",
              "  <div id=\"df-5fc33d00-d142-4aee-a2f8-5eeaee34b256\">\n",
              "    <div class=\"colab-df-container\">\n",
              "      <div>\n",
              "<style scoped>\n",
              "    .dataframe tbody tr th:only-of-type {\n",
              "        vertical-align: middle;\n",
              "    }\n",
              "\n",
              "    .dataframe tbody tr th {\n",
              "        vertical-align: top;\n",
              "    }\n",
              "\n",
              "    .dataframe thead th {\n",
              "        text-align: right;\n",
              "    }\n",
              "</style>\n",
              "<table border=\"1\" class=\"dataframe\">\n",
              "  <thead>\n",
              "    <tr style=\"text-align: right;\">\n",
              "      <th></th>\n",
              "      <th>측정나이</th>\n",
              "      <th>측정회원성별</th>\n",
              "      <th>신장 : cm</th>\n",
              "      <th>체중 : kg</th>\n",
              "      <th>체지방율 : %</th>\n",
              "      <th>이완기혈압(최저) : mmHg</th>\n",
              "      <th>수축기혈압(최고) : mmHg</th>\n",
              "      <th>악력D : kg</th>\n",
              "      <th>앉아윗몸앞으로굽히기 : cm</th>\n",
              "      <th>교차윗몸일으키기 : 회</th>\n",
              "      <th>제자리 멀리뛰기 : cm</th>\n",
              "      <th>등급</th>\n",
              "    </tr>\n",
              "  </thead>\n",
              "  <tbody>\n",
              "    <tr>\n",
              "      <th>0</th>\n",
              "      <td>59.0</td>\n",
              "      <td>M</td>\n",
              "      <td>175.0</td>\n",
              "      <td>70.6</td>\n",
              "      <td>19.2</td>\n",
              "      <td>91.0</td>\n",
              "      <td>150.0</td>\n",
              "      <td>40.6</td>\n",
              "      <td>12.2</td>\n",
              "      <td>30.0</td>\n",
              "      <td>179.0</td>\n",
              "      <td>C</td>\n",
              "    </tr>\n",
              "    <tr>\n",
              "      <th>1</th>\n",
              "      <td>40.0</td>\n",
              "      <td>F</td>\n",
              "      <td>161.4</td>\n",
              "      <td>45.8</td>\n",
              "      <td>21.7</td>\n",
              "      <td>62.0</td>\n",
              "      <td>119.0</td>\n",
              "      <td>22.1</td>\n",
              "      <td>16.0</td>\n",
              "      <td>32.0</td>\n",
              "      <td>165.0</td>\n",
              "      <td>B</td>\n",
              "    </tr>\n",
              "    <tr>\n",
              "      <th>2</th>\n",
              "      <td>27.0</td>\n",
              "      <td>M</td>\n",
              "      <td>176.6</td>\n",
              "      <td>84.8</td>\n",
              "      <td>19.2</td>\n",
              "      <td>87.0</td>\n",
              "      <td>153.0</td>\n",
              "      <td>45.9</td>\n",
              "      <td>13.2</td>\n",
              "      <td>61.0</td>\n",
              "      <td>216.0</td>\n",
              "      <td>B</td>\n",
              "    </tr>\n",
              "    <tr>\n",
              "      <th>3</th>\n",
              "      <td>38.0</td>\n",
              "      <td>M</td>\n",
              "      <td>167.6</td>\n",
              "      <td>76.7</td>\n",
              "      <td>24.7</td>\n",
              "      <td>63.0</td>\n",
              "      <td>132.0</td>\n",
              "      <td>43.6</td>\n",
              "      <td>16.0</td>\n",
              "      <td>45.0</td>\n",
              "      <td>231.0</td>\n",
              "      <td>A</td>\n",
              "    </tr>\n",
              "    <tr>\n",
              "      <th>4</th>\n",
              "      <td>21.0</td>\n",
              "      <td>M</td>\n",
              "      <td>165.2</td>\n",
              "      <td>66.2</td>\n",
              "      <td>21.5</td>\n",
              "      <td>83.0</td>\n",
              "      <td>106.0</td>\n",
              "      <td>33.5</td>\n",
              "      <td>10.6</td>\n",
              "      <td>46.0</td>\n",
              "      <td>198.0</td>\n",
              "      <td>C</td>\n",
              "    </tr>\n",
              "  </tbody>\n",
              "</table>\n",
              "</div>\n",
              "      <button class=\"colab-df-convert\" onclick=\"convertToInteractive('df-5fc33d00-d142-4aee-a2f8-5eeaee34b256')\"\n",
              "              title=\"Convert this dataframe to an interactive table.\"\n",
              "              style=\"display:none;\">\n",
              "        \n",
              "  <svg xmlns=\"http://www.w3.org/2000/svg\" height=\"24px\"viewBox=\"0 0 24 24\"\n",
              "       width=\"24px\">\n",
              "    <path d=\"M0 0h24v24H0V0z\" fill=\"none\"/>\n",
              "    <path d=\"M18.56 5.44l.94 2.06.94-2.06 2.06-.94-2.06-.94-.94-2.06-.94 2.06-2.06.94zm-11 1L8.5 8.5l.94-2.06 2.06-.94-2.06-.94L8.5 2.5l-.94 2.06-2.06.94zm10 10l.94 2.06.94-2.06 2.06-.94-2.06-.94-.94-2.06-.94 2.06-2.06.94z\"/><path d=\"M17.41 7.96l-1.37-1.37c-.4-.4-.92-.59-1.43-.59-.52 0-1.04.2-1.43.59L10.3 9.45l-7.72 7.72c-.78.78-.78 2.05 0 2.83L4 21.41c.39.39.9.59 1.41.59.51 0 1.02-.2 1.41-.59l7.78-7.78 2.81-2.81c.8-.78.8-2.07 0-2.86zM5.41 20L4 18.59l7.72-7.72 1.47 1.35L5.41 20z\"/>\n",
              "  </svg>\n",
              "      </button>\n",
              "      \n",
              "  <style>\n",
              "    .colab-df-container {\n",
              "      display:flex;\n",
              "      flex-wrap:wrap;\n",
              "      gap: 12px;\n",
              "    }\n",
              "\n",
              "    .colab-df-convert {\n",
              "      background-color: #E8F0FE;\n",
              "      border: none;\n",
              "      border-radius: 50%;\n",
              "      cursor: pointer;\n",
              "      display: none;\n",
              "      fill: #1967D2;\n",
              "      height: 32px;\n",
              "      padding: 0 0 0 0;\n",
              "      width: 32px;\n",
              "    }\n",
              "\n",
              "    .colab-df-convert:hover {\n",
              "      background-color: #E2EBFA;\n",
              "      box-shadow: 0px 1px 2px rgba(60, 64, 67, 0.3), 0px 1px 3px 1px rgba(60, 64, 67, 0.15);\n",
              "      fill: #174EA6;\n",
              "    }\n",
              "\n",
              "    [theme=dark] .colab-df-convert {\n",
              "      background-color: #3B4455;\n",
              "      fill: #D2E3FC;\n",
              "    }\n",
              "\n",
              "    [theme=dark] .colab-df-convert:hover {\n",
              "      background-color: #434B5C;\n",
              "      box-shadow: 0px 1px 3px 1px rgba(0, 0, 0, 0.15);\n",
              "      filter: drop-shadow(0px 1px 2px rgba(0, 0, 0, 0.3));\n",
              "      fill: #FFFFFF;\n",
              "    }\n",
              "  </style>\n",
              "\n",
              "      <script>\n",
              "        const buttonEl =\n",
              "          document.querySelector('#df-5fc33d00-d142-4aee-a2f8-5eeaee34b256 button.colab-df-convert');\n",
              "        buttonEl.style.display =\n",
              "          google.colab.kernel.accessAllowed ? 'block' : 'none';\n",
              "\n",
              "        async function convertToInteractive(key) {\n",
              "          const element = document.querySelector('#df-5fc33d00-d142-4aee-a2f8-5eeaee34b256');\n",
              "          const dataTable =\n",
              "            await google.colab.kernel.invokeFunction('convertToInteractive',\n",
              "                                                     [key], {});\n",
              "          if (!dataTable) return;\n",
              "\n",
              "          const docLinkHtml = 'Like what you see? Visit the ' +\n",
              "            '<a target=\"_blank\" href=https://colab.research.google.com/notebooks/data_table.ipynb>data table notebook</a>'\n",
              "            + ' to learn more about interactive tables.';\n",
              "          element.innerHTML = '';\n",
              "          dataTable['output_type'] = 'display_data';\n",
              "          await google.colab.output.renderOutput(dataTable, element);\n",
              "          const docLink = document.createElement('div');\n",
              "          docLink.innerHTML = docLinkHtml;\n",
              "          element.appendChild(docLink);\n",
              "        }\n",
              "      </script>\n",
              "    </div>\n",
              "  </div>\n",
              "  "
            ]
          },
          "metadata": {},
          "execution_count": 1
        }
      ]
    },
    {
      "cell_type": "markdown",
      "source": [
        "Q. 전체데이터의 수축기혈압(최고) - 이완기혈압(최저)의 평균을 구하여라"
      ],
      "metadata": {
        "id": "rsIXrBhcOFZz"
      }
    },
    {
      "cell_type": "code",
      "source": [
        "my_answer = (df['수축기혈압(최고) : mmHg']-df['이완기혈압(최저) : mmHg']).mean()\n",
        "my_answer"
      ],
      "metadata": {
        "colab": {
          "base_uri": "https://localhost:8080/"
        },
        "id": "P4ftssFEOG2w",
        "outputId": "af942537-e5da-43eb-b693-b86a563579af"
      },
      "execution_count": 2,
      "outputs": [
        {
          "output_type": "execute_result",
          "data": {
            "text/plain": [
              "52.19539414750672"
            ]
          },
          "metadata": {},
          "execution_count": 2
        }
      ]
    },
    {
      "cell_type": "code",
      "source": [
        "result  = (df['수축기혈압(최고) : mmHg'] - df['이완기혈압(최저) : mmHg']).mean()\n",
        "print(result)"
      ],
      "metadata": {
        "colab": {
          "base_uri": "https://localhost:8080/"
        },
        "id": "MpdY3AAEOPni",
        "outputId": "bc725044-caff-47bb-f43f-1be9cb3fb305"
      },
      "execution_count": 3,
      "outputs": [
        {
          "output_type": "stream",
          "name": "stdout",
          "text": [
            "52.19539414750672\n"
          ]
        }
      ]
    },
    {
      "cell_type": "markdown",
      "source": [
        "Q. 50~59세의 신장평균을 구하여라\n",
        "\n"
      ],
      "metadata": {
        "id": "1XdR5bVlOfq_"
      }
    },
    {
      "cell_type": "code",
      "source": [
        "my_answer = df[(df['측정나이'] >=50)&(df['측정나이']<=59)]['신장 : cm'].mean()\n",
        "my_answer"
      ],
      "metadata": {
        "colab": {
          "base_uri": "https://localhost:8080/"
        },
        "id": "mblUuXhoOTh3",
        "outputId": "d3abce83-7e55-4b32-c6ee-b6573299625b"
      },
      "execution_count": 4,
      "outputs": [
        {
          "output_type": "execute_result",
          "data": {
            "text/plain": [
              "164.07490107405314"
            ]
          },
          "metadata": {},
          "execution_count": 4
        }
      ]
    },
    {
      "cell_type": "code",
      "source": [
        "result = df[(df.측정나이 <60) & (df.측정나이>=50)].iloc[:,2].mean()\n",
        "print(result)"
      ],
      "metadata": {
        "colab": {
          "base_uri": "https://localhost:8080/"
        },
        "id": "3a-RzZ82OteN",
        "outputId": "f0f55840-ac70-4ad1-e5f9-831a1f1e029c"
      },
      "execution_count": 5,
      "outputs": [
        {
          "output_type": "stream",
          "name": "stdout",
          "text": [
            "164.07490107405314\n"
          ]
        }
      ]
    },
    {
      "cell_type": "markdown",
      "source": [
        "Q. 연령대 (20~29 : 20대 …) 별 인원수를 구하여라\n",
        "\n"
      ],
      "metadata": {
        "id": "G-bCdYVoPBBW"
      }
    },
    {
      "cell_type": "code",
      "source": [
        "df['연령대'] = df['측정나이']//10 *10 # *//를 활용하여 연령대를 구하는 아이디어*"
      ],
      "metadata": {
        "id": "KuYDTJZROxNi"
      },
      "execution_count": 6,
      "outputs": []
    },
    {
      "cell_type": "code",
      "source": [
        "my_answer = df.value_counts('연령대')\n",
        "my_answer"
      ],
      "metadata": {
        "colab": {
          "base_uri": "https://localhost:8080/"
        },
        "id": "QZhAGXw_PjOM",
        "outputId": "55603f10-8d48-461d-e539-ba5f7b4b293c"
      },
      "execution_count": 7,
      "outputs": [
        {
          "output_type": "execute_result",
          "data": {
            "text/plain": [
              "연령대\n",
              "20.0    5831\n",
              "30.0    2660\n",
              "40.0    1801\n",
              "50.0    1769\n",
              "60.0    1335\n",
              "dtype: int64"
            ]
          },
          "metadata": {},
          "execution_count": 7
        }
      ]
    },
    {
      "cell_type": "code",
      "source": [
        "df['연령대']  =df.측정나이 //10 *10\n",
        "result = df['연령대'].value_counts()\n",
        "print(result)"
      ],
      "metadata": {
        "colab": {
          "base_uri": "https://localhost:8080/"
        },
        "id": "rA_unvK7Pq6g",
        "outputId": "a744a39c-185e-443d-d5e7-34061bc2261a"
      },
      "execution_count": 8,
      "outputs": [
        {
          "output_type": "stream",
          "name": "stdout",
          "text": [
            "20.0    5831\n",
            "30.0    2660\n",
            "40.0    1801\n",
            "50.0    1769\n",
            "60.0    1335\n",
            "Name: 연령대, dtype: int64\n"
          ]
        }
      ]
    },
    {
      "cell_type": "markdown",
      "source": [
        "Q. 연령대 (20~29 : 20대 …) 별 등급의 숫자를 데이터 프레임으로 표현하라"
      ],
      "metadata": {
        "id": "alGjTF44P-9Y"
      }
    },
    {
      "cell_type": "code",
      "source": [
        "my_answer = df.groupby(['연령대','등급']).size().reset_index()\n",
        "my_answer"
      ],
      "metadata": {
        "colab": {
          "base_uri": "https://localhost:8080/",
          "height": 677
        },
        "id": "J-myyZ5BP1GR",
        "outputId": "3a88d11e-41ce-4cab-de29-dc1f94f58e82"
      },
      "execution_count": 9,
      "outputs": [
        {
          "output_type": "execute_result",
          "data": {
            "text/plain": [
              "     연령대 등급     0\n",
              "0   20.0  A  1585\n",
              "1   20.0  B  1443\n",
              "2   20.0  C  1455\n",
              "3   20.0  D  1348\n",
              "4   30.0  A   743\n",
              "5   30.0  B   697\n",
              "6   30.0  C   626\n",
              "7   30.0  D   594\n",
              "8   40.0  A   386\n",
              "9   40.0  B   428\n",
              "10  40.0  C   455\n",
              "11  40.0  D   532\n",
              "12  50.0  A   321\n",
              "13  50.0  B   410\n",
              "14  50.0  C   474\n",
              "15  50.0  D   564\n",
              "16  60.0  A   314\n",
              "17  60.0  B   371\n",
              "18  60.0  C   339\n",
              "19  60.0  D   311"
            ],
            "text/html": [
              "\n",
              "  <div id=\"df-81f2a178-91ec-4cfd-96a1-9fffcc41dd55\">\n",
              "    <div class=\"colab-df-container\">\n",
              "      <div>\n",
              "<style scoped>\n",
              "    .dataframe tbody tr th:only-of-type {\n",
              "        vertical-align: middle;\n",
              "    }\n",
              "\n",
              "    .dataframe tbody tr th {\n",
              "        vertical-align: top;\n",
              "    }\n",
              "\n",
              "    .dataframe thead th {\n",
              "        text-align: right;\n",
              "    }\n",
              "</style>\n",
              "<table border=\"1\" class=\"dataframe\">\n",
              "  <thead>\n",
              "    <tr style=\"text-align: right;\">\n",
              "      <th></th>\n",
              "      <th>연령대</th>\n",
              "      <th>등급</th>\n",
              "      <th>0</th>\n",
              "    </tr>\n",
              "  </thead>\n",
              "  <tbody>\n",
              "    <tr>\n",
              "      <th>0</th>\n",
              "      <td>20.0</td>\n",
              "      <td>A</td>\n",
              "      <td>1585</td>\n",
              "    </tr>\n",
              "    <tr>\n",
              "      <th>1</th>\n",
              "      <td>20.0</td>\n",
              "      <td>B</td>\n",
              "      <td>1443</td>\n",
              "    </tr>\n",
              "    <tr>\n",
              "      <th>2</th>\n",
              "      <td>20.0</td>\n",
              "      <td>C</td>\n",
              "      <td>1455</td>\n",
              "    </tr>\n",
              "    <tr>\n",
              "      <th>3</th>\n",
              "      <td>20.0</td>\n",
              "      <td>D</td>\n",
              "      <td>1348</td>\n",
              "    </tr>\n",
              "    <tr>\n",
              "      <th>4</th>\n",
              "      <td>30.0</td>\n",
              "      <td>A</td>\n",
              "      <td>743</td>\n",
              "    </tr>\n",
              "    <tr>\n",
              "      <th>5</th>\n",
              "      <td>30.0</td>\n",
              "      <td>B</td>\n",
              "      <td>697</td>\n",
              "    </tr>\n",
              "    <tr>\n",
              "      <th>6</th>\n",
              "      <td>30.0</td>\n",
              "      <td>C</td>\n",
              "      <td>626</td>\n",
              "    </tr>\n",
              "    <tr>\n",
              "      <th>7</th>\n",
              "      <td>30.0</td>\n",
              "      <td>D</td>\n",
              "      <td>594</td>\n",
              "    </tr>\n",
              "    <tr>\n",
              "      <th>8</th>\n",
              "      <td>40.0</td>\n",
              "      <td>A</td>\n",
              "      <td>386</td>\n",
              "    </tr>\n",
              "    <tr>\n",
              "      <th>9</th>\n",
              "      <td>40.0</td>\n",
              "      <td>B</td>\n",
              "      <td>428</td>\n",
              "    </tr>\n",
              "    <tr>\n",
              "      <th>10</th>\n",
              "      <td>40.0</td>\n",
              "      <td>C</td>\n",
              "      <td>455</td>\n",
              "    </tr>\n",
              "    <tr>\n",
              "      <th>11</th>\n",
              "      <td>40.0</td>\n",
              "      <td>D</td>\n",
              "      <td>532</td>\n",
              "    </tr>\n",
              "    <tr>\n",
              "      <th>12</th>\n",
              "      <td>50.0</td>\n",
              "      <td>A</td>\n",
              "      <td>321</td>\n",
              "    </tr>\n",
              "    <tr>\n",
              "      <th>13</th>\n",
              "      <td>50.0</td>\n",
              "      <td>B</td>\n",
              "      <td>410</td>\n",
              "    </tr>\n",
              "    <tr>\n",
              "      <th>14</th>\n",
              "      <td>50.0</td>\n",
              "      <td>C</td>\n",
              "      <td>474</td>\n",
              "    </tr>\n",
              "    <tr>\n",
              "      <th>15</th>\n",
              "      <td>50.0</td>\n",
              "      <td>D</td>\n",
              "      <td>564</td>\n",
              "    </tr>\n",
              "    <tr>\n",
              "      <th>16</th>\n",
              "      <td>60.0</td>\n",
              "      <td>A</td>\n",
              "      <td>314</td>\n",
              "    </tr>\n",
              "    <tr>\n",
              "      <th>17</th>\n",
              "      <td>60.0</td>\n",
              "      <td>B</td>\n",
              "      <td>371</td>\n",
              "    </tr>\n",
              "    <tr>\n",
              "      <th>18</th>\n",
              "      <td>60.0</td>\n",
              "      <td>C</td>\n",
              "      <td>339</td>\n",
              "    </tr>\n",
              "    <tr>\n",
              "      <th>19</th>\n",
              "      <td>60.0</td>\n",
              "      <td>D</td>\n",
              "      <td>311</td>\n",
              "    </tr>\n",
              "  </tbody>\n",
              "</table>\n",
              "</div>\n",
              "      <button class=\"colab-df-convert\" onclick=\"convertToInteractive('df-81f2a178-91ec-4cfd-96a1-9fffcc41dd55')\"\n",
              "              title=\"Convert this dataframe to an interactive table.\"\n",
              "              style=\"display:none;\">\n",
              "        \n",
              "  <svg xmlns=\"http://www.w3.org/2000/svg\" height=\"24px\"viewBox=\"0 0 24 24\"\n",
              "       width=\"24px\">\n",
              "    <path d=\"M0 0h24v24H0V0z\" fill=\"none\"/>\n",
              "    <path d=\"M18.56 5.44l.94 2.06.94-2.06 2.06-.94-2.06-.94-.94-2.06-.94 2.06-2.06.94zm-11 1L8.5 8.5l.94-2.06 2.06-.94-2.06-.94L8.5 2.5l-.94 2.06-2.06.94zm10 10l.94 2.06.94-2.06 2.06-.94-2.06-.94-.94-2.06-.94 2.06-2.06.94z\"/><path d=\"M17.41 7.96l-1.37-1.37c-.4-.4-.92-.59-1.43-.59-.52 0-1.04.2-1.43.59L10.3 9.45l-7.72 7.72c-.78.78-.78 2.05 0 2.83L4 21.41c.39.39.9.59 1.41.59.51 0 1.02-.2 1.41-.59l7.78-7.78 2.81-2.81c.8-.78.8-2.07 0-2.86zM5.41 20L4 18.59l7.72-7.72 1.47 1.35L5.41 20z\"/>\n",
              "  </svg>\n",
              "      </button>\n",
              "      \n",
              "  <style>\n",
              "    .colab-df-container {\n",
              "      display:flex;\n",
              "      flex-wrap:wrap;\n",
              "      gap: 12px;\n",
              "    }\n",
              "\n",
              "    .colab-df-convert {\n",
              "      background-color: #E8F0FE;\n",
              "      border: none;\n",
              "      border-radius: 50%;\n",
              "      cursor: pointer;\n",
              "      display: none;\n",
              "      fill: #1967D2;\n",
              "      height: 32px;\n",
              "      padding: 0 0 0 0;\n",
              "      width: 32px;\n",
              "    }\n",
              "\n",
              "    .colab-df-convert:hover {\n",
              "      background-color: #E2EBFA;\n",
              "      box-shadow: 0px 1px 2px rgba(60, 64, 67, 0.3), 0px 1px 3px 1px rgba(60, 64, 67, 0.15);\n",
              "      fill: #174EA6;\n",
              "    }\n",
              "\n",
              "    [theme=dark] .colab-df-convert {\n",
              "      background-color: #3B4455;\n",
              "      fill: #D2E3FC;\n",
              "    }\n",
              "\n",
              "    [theme=dark] .colab-df-convert:hover {\n",
              "      background-color: #434B5C;\n",
              "      box-shadow: 0px 1px 3px 1px rgba(0, 0, 0, 0.15);\n",
              "      filter: drop-shadow(0px 1px 2px rgba(0, 0, 0, 0.3));\n",
              "      fill: #FFFFFF;\n",
              "    }\n",
              "  </style>\n",
              "\n",
              "      <script>\n",
              "        const buttonEl =\n",
              "          document.querySelector('#df-81f2a178-91ec-4cfd-96a1-9fffcc41dd55 button.colab-df-convert');\n",
              "        buttonEl.style.display =\n",
              "          google.colab.kernel.accessAllowed ? 'block' : 'none';\n",
              "\n",
              "        async function convertToInteractive(key) {\n",
              "          const element = document.querySelector('#df-81f2a178-91ec-4cfd-96a1-9fffcc41dd55');\n",
              "          const dataTable =\n",
              "            await google.colab.kernel.invokeFunction('convertToInteractive',\n",
              "                                                     [key], {});\n",
              "          if (!dataTable) return;\n",
              "\n",
              "          const docLinkHtml = 'Like what you see? Visit the ' +\n",
              "            '<a target=\"_blank\" href=https://colab.research.google.com/notebooks/data_table.ipynb>data table notebook</a>'\n",
              "            + ' to learn more about interactive tables.';\n",
              "          element.innerHTML = '';\n",
              "          dataTable['output_type'] = 'display_data';\n",
              "          await google.colab.output.renderOutput(dataTable, element);\n",
              "          const docLink = document.createElement('div');\n",
              "          docLink.innerHTML = docLinkHtml;\n",
              "          element.appendChild(docLink);\n",
              "        }\n",
              "      </script>\n",
              "    </div>\n",
              "  </div>\n",
              "  "
            ]
          },
          "metadata": {},
          "execution_count": 9
        }
      ]
    },
    {
      "cell_type": "code",
      "source": [
        "result = df.groupby(['연령대','등급'],as_index=False).size()\n",
        "print(result)"
      ],
      "metadata": {
        "colab": {
          "base_uri": "https://localhost:8080/"
        },
        "id": "GTVhkpkMQI8G",
        "outputId": "8619b302-b1b0-4368-f028-b3c8cb86615c"
      },
      "execution_count": 10,
      "outputs": [
        {
          "output_type": "stream",
          "name": "stdout",
          "text": [
            "     연령대 등급  size\n",
            "0   20.0  A  1585\n",
            "1   20.0  B  1443\n",
            "2   20.0  C  1455\n",
            "3   20.0  D  1348\n",
            "4   30.0  A   743\n",
            "5   30.0  B   697\n",
            "6   30.0  C   626\n",
            "7   30.0  D   594\n",
            "8   40.0  A   386\n",
            "9   40.0  B   428\n",
            "10  40.0  C   455\n",
            "11  40.0  D   532\n",
            "12  50.0  A   321\n",
            "13  50.0  B   410\n",
            "14  50.0  C   474\n",
            "15  50.0  D   564\n",
            "16  60.0  A   314\n",
            "17  60.0  B   371\n",
            "18  60.0  C   339\n",
            "19  60.0  D   311\n"
          ]
        }
      ]
    },
    {
      "cell_type": "markdown",
      "source": [
        "Q. 남성 중 A등급과 D등급의 체지방률 평균의 차이(큰 값에서 작은 값의 차)를 구하여라\n",
        "\n"
      ],
      "metadata": {
        "id": "b0QvpyvXQayo"
      }
    },
    {
      "cell_type": "code",
      "source": [
        "df_male = df[df['측정회원성별']=='M']"
      ],
      "metadata": {
        "id": "npUdgjesRDJC"
      },
      "execution_count": 11,
      "outputs": []
    },
    {
      "cell_type": "code",
      "source": [
        "my_result = abs(df_male[df_male['등급']=='A']['체지방율 : %'].mean() - df_male[df_male['등급']=='D']['체지방율 : %'].mean())\n",
        "my_result"
      ],
      "metadata": {
        "colab": {
          "base_uri": "https://localhost:8080/"
        },
        "id": "ZdIT-zXIQXt9",
        "outputId": "a013b1bc-40b5-4bda-b582-8c505ec26fa3"
      },
      "execution_count": 12,
      "outputs": [
        {
          "output_type": "execute_result",
          "data": {
            "text/plain": [
              "7.932086486137521"
            ]
          },
          "metadata": {},
          "execution_count": 12
        }
      ]
    },
    {
      "cell_type": "code",
      "source": [
        "result = abs(df[(df.측정회원성별 =='M') &(df.등급 =='A')].iloc[:,4].mean() -df[(df.측정회원성별 =='M') &(df.등급 =='D')].iloc[:,4].mean())\n",
        "print(result)"
      ],
      "metadata": {
        "colab": {
          "base_uri": "https://localhost:8080/"
        },
        "id": "QDU8UftQQ2sJ",
        "outputId": "c873c26f-e9a0-4145-a344-f2c8c86d9f94"
      },
      "execution_count": 13,
      "outputs": [
        {
          "output_type": "stream",
          "name": "stdout",
          "text": [
            "7.932086486137521\n"
          ]
        }
      ]
    },
    {
      "cell_type": "markdown",
      "source": [
        "Q. 여성 중 A등급과 D등급의 체중의 평균의 차이(큰 값에서 작은 값의 차)를 구하여라\n",
        "\n"
      ],
      "metadata": {
        "id": "uSvSGz33Rlpq"
      }
    },
    {
      "cell_type": "code",
      "source": [
        "df_female = df[df['측정회원성별']=='F']"
      ],
      "metadata": {
        "id": "iqU1hUzuRoFu"
      },
      "execution_count": 14,
      "outputs": []
    },
    {
      "cell_type": "code",
      "source": [
        "my_result = abs(df_female[df_female['등급']=='A']['체중 : kg'].mean() - df_female[df_female['등급']=='D']['체중 : kg'].mean())\n",
        "my_result"
      ],
      "metadata": {
        "colab": {
          "base_uri": "https://localhost:8080/"
        },
        "id": "cXx4wo6TRXoY",
        "outputId": "14f4fa48-9d3d-4ed9-e1f7-97dd4e74ff4f"
      },
      "execution_count": 15,
      "outputs": [
        {
          "output_type": "execute_result",
          "data": {
            "text/plain": [
              "5.176211590296504"
            ]
          },
          "metadata": {},
          "execution_count": 15
        }
      ]
    },
    {
      "cell_type": "code",
      "source": [
        "result = abs(df[(df.측정회원성별 =='F') &(df.등급 =='A')].iloc[:,3].mean() -df[(df.측정회원성별 =='F') &(df.등급 =='D')].iloc[:,3].mean())\n",
        "print(result)"
      ],
      "metadata": {
        "colab": {
          "base_uri": "https://localhost:8080/"
        },
        "id": "hAda91_YR34K",
        "outputId": "58a15903-e4f0-4135-dd39-ba8a582ab958"
      },
      "execution_count": 16,
      "outputs": [
        {
          "output_type": "stream",
          "name": "stdout",
          "text": [
            "5.176211590296504\n"
          ]
        }
      ]
    },
    {
      "cell_type": "markdown",
      "source": [
        "Q. bmi는 자신의 몸무게(kg)를 키의 제곱(m)으로 나눈값이다. 데이터의 bmi 를 구한 새로운 컬럼을 만들고 남성의 bmi 평균을 구하여라"
      ],
      "metadata": {
        "id": "ZGUQe7U4SHmq"
      }
    },
    {
      "cell_type": "code",
      "source": [
        "df['bmi'] = df['체중 : kg']/(df['신장 : cm']/100)**2"
      ],
      "metadata": {
        "id": "vTe0dTkMR6IX"
      },
      "execution_count": 17,
      "outputs": []
    },
    {
      "cell_type": "code",
      "source": [
        "my_answer = df.groupby('측정회원성별')['bmi'].mean()['M']\n",
        "my_answer"
      ],
      "metadata": {
        "colab": {
          "base_uri": "https://localhost:8080/"
        },
        "id": "fxWvbFaqTZuA",
        "outputId": "435e8a26-4b2c-4d80-a9b1-45adedf289c2"
      },
      "execution_count": 18,
      "outputs": [
        {
          "output_type": "execute_result",
          "data": {
            "text/plain": [
              "24.46134409819308"
            ]
          },
          "metadata": {},
          "execution_count": 18
        }
      ]
    },
    {
      "cell_type": "code",
      "source": [
        "df['bmi'] = df['체중 : kg'] / (df['신장 : cm']/100) **2\n",
        "result = df[df.측정회원성별 =='M'].bmi.mean()\n",
        "\n",
        "print(result)"
      ],
      "metadata": {
        "colab": {
          "base_uri": "https://localhost:8080/"
        },
        "id": "Gj76yRgsTtx4",
        "outputId": "bf24eba5-6bcf-4ff9-dee8-711977615090"
      },
      "execution_count": 19,
      "outputs": [
        {
          "output_type": "stream",
          "name": "stdout",
          "text": [
            "24.46134409819308\n"
          ]
        }
      ]
    },
    {
      "cell_type": "markdown",
      "source": [
        "Q. bmi보다 체지방율이 높은 사람들의 체중평균을 구하여라\n",
        "\n"
      ],
      "metadata": {
        "id": "dzz3NWyoT6aW"
      }
    },
    {
      "cell_type": "code",
      "source": [
        "my_answer = df[df['체지방율 : %'] > df['bmi']]['체중 : kg'].mean()\n",
        "my_answer"
      ],
      "metadata": {
        "colab": {
          "base_uri": "https://localhost:8080/"
        },
        "id": "iMgIKUSyT1TS",
        "outputId": "1fb75ddf-5bd6-4380-c8c0-b73f439d4e5f"
      },
      "execution_count": 20,
      "outputs": [
        {
          "output_type": "execute_result",
          "data": {
            "text/plain": [
              "61.7408806392542"
            ]
          },
          "metadata": {},
          "execution_count": 20
        }
      ]
    },
    {
      "cell_type": "code",
      "source": [
        "result =df[df.bmi <df['체지방율 : %']]['체중 : kg'].mean()\n",
        "print(result)"
      ],
      "metadata": {
        "colab": {
          "base_uri": "https://localhost:8080/"
        },
        "id": "lm12eyybT8ZE",
        "outputId": "2d904f97-5d64-4b21-d4be-8da3dcb693bd"
      },
      "execution_count": 21,
      "outputs": [
        {
          "output_type": "stream",
          "name": "stdout",
          "text": [
            "61.7408806392542\n"
          ]
        }
      ]
    },
    {
      "cell_type": "markdown",
      "source": [
        "Q. 남성과 여성의 악력 평균의 차이를 구하여라\n",
        "\n"
      ],
      "metadata": {
        "id": "q6kql7uIUIK5"
      }
    },
    {
      "cell_type": "code",
      "source": [
        "my_answer = abs(df.groupby('측정회원성별')['악력D : kg'].mean()[0]-df.groupby('측정회원성별')['악력D : kg'].mean()[1])\n",
        "my_answer"
      ],
      "metadata": {
        "colab": {
          "base_uri": "https://localhost:8080/"
        },
        "id": "StNS28adUGv_",
        "outputId": "95924e93-b2a6-43be-9ecd-f95fcd9d376f"
      },
      "execution_count": 22,
      "outputs": [
        {
          "output_type": "execute_result",
          "data": {
            "text/plain": [
              "17.55954185047465"
            ]
          },
          "metadata": {},
          "execution_count": 22
        }
      ]
    },
    {
      "cell_type": "code",
      "source": [
        "target= df.groupby('측정회원성별')['악력D : kg'].mean()\n",
        "\n",
        "result = target.M - target.F\n",
        "print(result)"
      ],
      "metadata": {
        "colab": {
          "base_uri": "https://localhost:8080/"
        },
        "id": "Z99kEl9uUQEy",
        "outputId": "c484851d-f05c-4222-d732-c35b6014b231"
      },
      "execution_count": 23,
      "outputs": [
        {
          "output_type": "stream",
          "name": "stdout",
          "text": [
            "17.55954185047465\n"
          ]
        }
      ]
    },
    {
      "cell_type": "markdown",
      "source": [
        "Q. 남성과 여성의 교차윗몸일으키기 횟수의 평균의 차이를 구하여라\n",
        "\n"
      ],
      "metadata": {
        "id": "IW9YUFx1UmBF"
      }
    },
    {
      "cell_type": "code",
      "source": [
        "my_answer = abs(df.groupby('측정회원성별')['교차윗몸일으키기 : 회'].mean()[0]-df.groupby('측정회원성별')['교차윗몸일으키기 : 회'].mean()[1])\n",
        "my_answer"
      ],
      "metadata": {
        "colab": {
          "base_uri": "https://localhost:8080/"
        },
        "id": "FLR1UsjyUkY1",
        "outputId": "3cf842c7-fc86-412f-e1b5-60521da254be"
      },
      "execution_count": 24,
      "outputs": [
        {
          "output_type": "execute_result",
          "data": {
            "text/plain": [
              "14.243156833157627"
            ]
          },
          "metadata": {},
          "execution_count": 24
        }
      ]
    },
    {
      "cell_type": "code",
      "source": [
        "target= df.groupby('측정회원성별')['교차윗몸일으키기 : 회'].mean()\n",
        "\n",
        "result = target.M - target.F\n",
        "print(result)"
      ],
      "metadata": {
        "colab": {
          "base_uri": "https://localhost:8080/"
        },
        "id": "Xx4ggd3HUnCh",
        "outputId": "a37f9f44-c46e-4bfa-adaa-37b44a7b35d0"
      },
      "execution_count": 25,
      "outputs": [
        {
          "output_type": "stream",
          "name": "stdout",
          "text": [
            "14.243156833157627\n"
          ]
        }
      ]
    },
    {
      "cell_type": "code",
      "source": [],
      "metadata": {
        "id": "xpdFqprIUtht"
      },
      "execution_count": 25,
      "outputs": []
    }
  ]
}